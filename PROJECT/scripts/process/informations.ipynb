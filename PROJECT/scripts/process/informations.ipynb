{
 "cells": [
  {
   "cell_type": "code",
   "execution_count": 2,
   "id": "658d781b-d66d-4e40-9416-481a12e5fb1f",
   "metadata": {},
   "outputs": [],
   "source": [
    "#!pip install datasets"
   ]
  },
  {
   "cell_type": "code",
   "execution_count": 4,
   "id": "19998d93-d795-4337-96f6-0ca8a8dbe0f3",
   "metadata": {},
   "outputs": [],
   "source": [
    "from datasets import load_dataset"
   ]
  },
  {
   "cell_type": "code",
   "execution_count": 5,
   "id": "ffdc0167-3174-445d-a0d7-95cd73c112b6",
   "metadata": {},
   "outputs": [
    {
     "data": {
      "application/vnd.jupyter.widget-view+json": {
       "model_id": "bea44ea161444c9ba9f1562747c22e63",
       "version_major": 2,
       "version_minor": 0
      },
      "text/plain": [
       "Generating train split: 0 examples [00:00, ? examples/s]"
      ]
     },
     "metadata": {},
     "output_type": "display_data"
    },
    {
     "name": "stdout",
     "output_type": "stream",
     "text": [
      "DatasetDict({\n",
      "    train: Dataset({\n",
      "        features: ['LINK', 'TITLE', 'DESCRIPTION', 'CONTENT'],\n",
      "        num_rows: 55\n",
      "    })\n",
      "})\n"
     ]
    }
   ],
   "source": [
    "# On charge notre dataset à partir de notre fichier CSV\n",
    "dataset = load_dataset('csv', data_files='../../figures/nyt_data.csv')\n",
    "print(dataset)"
   ]
  },
  {
   "cell_type": "code",
   "execution_count": 8,
   "id": "3d25f72f-7e9c-42ac-97e8-abfd2d8d3b49",
   "metadata": {},
   "outputs": [
    {
     "name": "stdout",
     "output_type": "stream",
     "text": [
      "                                                 LINK  \\\n",
      "0   https://www.nytimes.com/2024/03/22/business/ar...   \n",
      "1   https://www.nytimes.com/2024/03/20/world/middl...   \n",
      "2   https://www.nytimes.com/2024/03/21/science/arc...   \n",
      "3   https://www.nytimes.com/2024/03/20/world/asia/...   \n",
      "4   https://www.nytimes.com/2024/03/22/world/austr...   \n",
      "5   https://www.nytimes.com/2024/03/22/science/ast...   \n",
      "6   https://www.nytimes.com/2024/03/21/world/asia/...   \n",
      "7   https://www.nytimes.com/2024/03/22/world/europ...   \n",
      "8   https://www.nytimes.com/2024/03/21/world/europ...   \n",
      "9   https://www.nytimes.com/2024/03/21/world/middl...   \n",
      "10  https://www.nytimes.com/2024/03/22/world/afric...   \n",
      "11  https://www.nytimes.com/2024/03/22/world/europ...   \n",
      "12  https://www.nytimes.com/2024/03/22/world/europ...   \n",
      "13  https://www.nytimes.com/2024/03/22/world/middl...   \n",
      "14  https://www.nytimes.com/2024/03/20/world/europ...   \n",
      "15  https://www.nytimes.com/2024/03/22/world/europ...   \n",
      "16  https://www.nytimes.com/2024/03/21/world/europ...   \n",
      "17  https://www.nytimes.com/2024/03/20/world/middl...   \n",
      "18  https://www.nytimes.com/2024/03/21/climate/cli...   \n",
      "19  https://www.nytimes.com/2024/03/21/world/asia/...   \n",
      "20  https://www.nytimes.com/2024/03/22/briefing/ap...   \n",
      "21  https://www.nytimes.com/2024/03/21/world/middl...   \n",
      "22  https://www.nytimes.com/2024/03/22/world/europ...   \n",
      "23  https://www.nytimes.com/2024/03/21/world/middl...   \n",
      "24  https://www.nytimes.com/2024/03/21/world/ameri...   \n",
      "25  https://www.nytimes.com/2024/03/22/world/europ...   \n",
      "26  https://www.nytimes.com/live/2024/03/22/world/...   \n",
      "27  https://www.nytimes.com/2024/03/22/climate/toy...   \n",
      "28  https://www.nytimes.com/2024/03/21/world/middl...   \n",
      "29  https://www.nytimes.com/2024/03/21/world/europ...   \n",
      "30  https://www.nytimes.com/2024/03/22/world/middl...   \n",
      "31  https://www.nytimes.com/2024/03/21/world/europ...   \n",
      "32  https://www.nytimes.com/2024/03/22/technology/...   \n",
      "33  https://www.nytimes.com/2024/03/22/world/asia/...   \n",
      "34  https://www.nytimes.com/2024/03/22/world/middl...   \n",
      "35  https://www.nytimes.com/2024/03/22/health/coro...   \n",
      "36  https://www.nytimes.com/2024/03/22/us/politics...   \n",
      "37  https://www.nytimes.com/2024/03/22/world/europ...   \n",
      "38  https://www.nytimes.com/2024/03/22/world/europ...   \n",
      "39  https://www.nytimes.com/2024/03/21/world/middl...   \n",
      "40  https://www.nytimes.com/2024/03/20/world/europ...   \n",
      "41  https://www.nytimes.com/2024/03/22/world/asia/...   \n",
      "42  https://www.nytimes.com/2024/03/21/world/austr...   \n",
      "43  https://www.nytimes.com/2024/03/22/world/europ...   \n",
      "44  https://www.nytimes.com/live/2024/03/22/world/...   \n",
      "45  https://www.nytimes.com/2024/03/22/world/afric...   \n",
      "46  https://www.nytimes.com/2024/03/22/world/europ...   \n",
      "47  https://www.nytimes.com/2024/03/21/world/europ...   \n",
      "48  https://www.nytimes.com/2024/03/21/briefing/eu...   \n",
      "49  https://www.nytimes.com/2024/03/20/world/europ...   \n",
      "50  https://www.nytimes.com/2024/03/22/world/europ...   \n",
      "51  https://www.nytimes.com/2024/03/21/world/asia/...   \n",
      "52  https://www.nytimes.com/2024/03/21/world/europ...   \n",
      "53  https://www.nytimes.com/2024/03/21/world/ameri...   \n",
      "54  https://www.nytimes.com/2024/03/21/science/odo...   \n",
      "\n",
      "                                                TITLE  \\\n",
      "0   The A.I. Boom Makes Millions for an Unlikely I...   \n",
      "1        Israel-Hamas War in Gaza Leaves Power Vacuum   \n",
      "2   Long Before Amsterdam’s Coffee Shops, There We...   \n",
      "3             Thursday Briefing: Where is Gaza’s Aid?   \n",
      "4   What We Gained (and Lost) When Our Daughter Un...   \n",
      "5   Dante Lauretta on Life After Asteroid Bennu an...   \n",
      "6   Indian Opposition Parties Say They Face Tide o...   \n",
      "7          Here’s the latest on the attack in Russia.   \n",
      "8   Vaughan Gething of Wales Is Europe’s First Bla...   \n",
      "9   Doctors, Back From Gaza Hospitals, Tell Congre...   \n",
      "10  Democracy Crumbling in African Countries Once ...   \n",
      "11  U.S. Warned About Possible Moscow Attack Befor...   \n",
      "12  Russian Attack Leaves Over a Million in Ukrain...   \n",
      "13  U.S. Call for Gaza Cease-Fire Runs Into Russia...   \n",
      "14  U.K. Bill to Send Asylum Seekers to Rwanda Is ...   \n",
      "15    The Deadly Moscow Concert Hall Attack in Photos   \n",
      "16  Ireland’s Prime Minister, Leo Varadkar, Resign...   \n",
      "17  Congress Seeks to Bar Funding for U.N. Agency ...   \n",
      "18  Climate Change Made an Early Heat Wave in West...   \n",
      "19               Friday Briefing: The U.S. Sues Apple   \n",
      "20                                    Friday Briefing   \n",
      "21  U.S. to Present Gaza Cease-Fire Resolution at ...   \n",
      "22   Is Germany Heading for Humiliation at the Euros?   \n",
      "23  Mike Johnson Says He Will Invite Netanyahu to ...   \n",
      "24  A Mexican Drug Cartel Targets Retirees and The...   \n",
      "25             Collecting the Dead Russia Left Behind   \n",
      "26  Live Updates: Catherine, Princess of Wales, Re...   \n",
      "27  How the New E.P.A. Rules Affect Toyota and The...   \n",
      "28  Israel’s Raid on Al-Shifa Hospital Grows Into ...   \n",
      "29  Why Do Autocrats Like Putin Bother to Hold Ele...   \n",
      "30  Blinken Meets With Netanyahu at Moment of Tens...   \n",
      "31  Portugal Had Little Appetite for the Far Right...   \n",
      "32  In One Key A.I. Metric, China Pulls Ahead of t...   \n",
      "33  Insooni Breaks Racial Barrier to Become Belove...   \n",
      "34  A Look at Previous U.S. Vetoes of Gaza Cease-F...   \n",
      "35                   What’s Next for the Coronavirus?   \n",
      "36  How Biden Could Try to Coerce Israel to Change...   \n",
      "37  Norman Miller, German Refugee Who Helped Arres...   \n",
      "38  ‘Strike Madness’ Hits Germany While Its Econom...   \n",
      "39  Blinken Describes New U.S. Push for Cease-Fire...   \n",
      "40  Iceland’s Tourism Suffers Amid a Belching Volc...   \n",
      "41  Holi: What to Know about India’s Most Colorful...   \n",
      "42  In New Zealand, Experiencing the Miracle of Fl...   \n",
      "43  A Space Rock Fell Into Sweden. Who Owns It on ...   \n",
      "44  Live Updates: Gunmen Kill at Least 40 at Mosco...   \n",
      "45  Uganda President Museveni Appoints His Son as ...   \n",
      "46  Rose Dugdale, Heiress Turned Irish Independenc...   \n",
      "47   Russian Missile Attack on Kyiv Leaves 10 Injured   \n",
      "48                                  Thursday Briefing   \n",
      "49  E.U. Plans to Use Russian Frozen Assets to Pay...   \n",
      "50  Read Princess Kate’s Full Statement on Her Can...   \n",
      "51  Suicide Bombing Outside Afghan Bank Kills at L...   \n",
      "52  Luis Rubiales, Former Spanish Soccer Chief, Fa...   \n",
      "53  As Americans Flee Haiti, 2-Year-Old Is Separat...   \n",
      "54  Toddlers Smell Like Flowers, Teens Smell ‘Goat...   \n",
      "\n",
      "                                          DESCRIPTION  \\\n",
      "0   The small Caribbean territory brought in $32 m...   \n",
      "1   Analysts say the Israeli military’s return to ...   \n",
      "2   A nearly 2,000-year-old stash pouch provides t...   \n",
      "3   Also, sweeping U.S. climate regulations and th...   \n",
      "4   My 13-year-old has left her phone behind for h...   \n",
      "5   Dante Lauretta, the planetary scientist who le...   \n",
      "6   Weeks before pivotal elections, the head of on...   \n",
      "7                                                None   \n",
      "8   Mr. Gething, 50, was narrowly elected leader o...   \n",
      "9   Volunteers who treated patients in harrowing c...   \n",
      "10  A wave of military coups and presidents clingi...   \n",
      "11  Pro-Moscow forces had dismissed the alert as a...   \n",
      "12  Power plants and a major hydroelectric dam wer...   \n",
      "13  The American draft resolution before the Secur...   \n",
      "14  Parliament is all but certain to approve the g...   \n",
      "15  Images show the scene of what could be the dea...   \n",
      "16  Leo Varadkar, the prime minister of the Republ...   \n",
      "17  A bill would bar support for the agency, UNRWA...   \n",
      "18  Temperatures in the region rose above 40 degre...   \n",
      "19  Also, India’s opposition faces troubles and ti...   \n",
      "20                               The U.S. sues Apple.   \n",
      "21  A resolution for the U.N. that American diplom...   \n",
      "22  A nation that was soccer’s gold standard a dec...   \n",
      "23  Senator Chuck Schumer, the majority leader, al...   \n",
      "24  One of Mexico’s most violent criminal groups, ...   \n",
      "25  Civilians who gather dead Russian soldiers fac...   \n",
      "26  The princess described the news as a “huge sho...   \n",
      "27  The auto giant lobbied hard against tougher po...   \n",
      "28  As Israel’s attack on the medical complex stre...   \n",
      "29  These votes can demonstrate control, serve as ...   \n",
      "30  Prime Minister Benjamin Netanyahu repeated tha...   \n",
      "31  Memories of dictatorship are fading. Dissatisf...   \n",
      "32  China has produced a huge number of top A.I. e...   \n",
      "33  Born to a South Korean mother and a Black Amer...   \n",
      "34  Before a U.S. resolution in the United Nations...   \n",
      "35  Scientists studying the virus’s continuing evo...   \n",
      "36  President Biden has tried persuading Prime Min...   \n",
      "37  At 15, he escaped to England. At 20, he enlist...   \n",
      "38  A wave of strikes by German workers, feeling t...   \n",
      "39  In Saudi Arabia, the secretary of state discus...   \n",
      "40  In a country that relies heavily on visitors, ...   \n",
      "41  The ancient festival has Hindu roots, but grow...   \n",
      "42  The country's domestic airlines play a crucial...   \n",
      "43  Sweden’s courts have been debating claims to a...   \n",
      "44  There was no report of who might be responsibl...   \n",
      "45  Gen. Muhoozi Kainerugaba, who has a reputation...   \n",
      "46  Born into English wealth and Oxford-educated, ...   \n",
      "47  Ukraine said it had intercepted all 31 missile...   \n",
      "48  The E.U.’s plan to make Russia pay to arm Ukra...   \n",
      "49  Using interest earned on frozen Russian assets...   \n",
      "50  The princess asked for privacy as she undergoe...   \n",
      "51  The blast targeted a bank in Kandahar, where T...   \n",
      "52  Mr. Rubiales, who resigned after kissing a pla...   \n",
      "53  The boy had been dropped off with relatives ne...   \n",
      "54  Two musky steroids, and higher levels of odoro...   \n",
      "\n",
      "                                              CONTENT  \n",
      "0   For each domain registration, Anguilla’s gover...  \n",
      "1   A ceremony in 2022 for the 35th anniversary of...  \n",
      "2   Migrant agricultural workers unloading fruit c...  \n",
      "3   Prime Minister Rishi Sunak of Britain argues t...  \n",
      "4   Letters sent by the author’s daughter from Tim...  \n",
      "5   “Phosphorus has a special place in my heart,” ...  \n",
      "6   The leader of the Aam Aadmi Party, Arvind Kejr...  \n",
      "7   The U.S. Embassy in Moscow issued a warning ab...  \n",
      "8   Vaughan Gething poses for a photo, in a lectur...  \n",
      "9   The World Artificial Intelligence Conference i...  \n",
      "10  Watching President Macky Sall of Senegal speak...  \n",
      "11  The U.S. Embassy in Moscow issued a warning ab...  \n",
      "12  Rescuers amid destroyed homes in Zaporizhzhia,...  \n",
      "13  Russia, China and Algeria voted against the U....  \n",
      "14  Prime Minister Rishi Sunak of Britain argues t...  \n",
      "15  Crocus City Hall in Moscow on fire Friday nigh...  \n",
      "16  Ireland’s prime minister, Leo Varadkar, at a E...  \n",
      "17  Palestinians gathered to receive aid outside a...  \n",
      "18  Henock Inonga, of the Democratic Republic of C...  \n",
      "19  By tightly controlling the user experience on ...  \n",
      "20  By tightly controlling the user experience on ...  \n",
      "21  Secretary of State Antony J. Blinken arriving ...  \n",
      "22  Germany’s results since October (a win, a draw...  \n",
      "23  House Speaker Mike Johnson said on Thursday th...  \n",
      "24  Tourists in Puerto Vallarta, a popular beach t...  \n",
      "25  A drone photograph showing Russian soldiers ki...  \n",
      "26  Russia, China and Algeria voted against the U....  \n",
      "27                     Charging up in Lake Park, Fla.  \n",
      "28  Smoke rising during an Israeli raid at Al-Shif...  \n",
      "29  The visage of President Vladimir V. Putin was ...  \n",
      "30  Secretary of State Antony J. Blinken arrived i...  \n",
      "31  Migrant agricultural workers unloading fruit c...  \n",
      "32  The World Artificial Intelligence Conference i...  \n",
      "33  Kim In-soon, known professionally as Insooni, ...  \n",
      "34  Linda Thomas-Greenfield, the U.S. ambassador t...  \n",
      "35  Catherine, the princess of Wales, speaking on ...  \n",
      "36  President Biden traveled to Israel and met wit...  \n",
      "37  Striking workers added wood to a fire to stay ...  \n",
      "38  Striking workers added wood to a fire to stay ...  \n",
      "39  Secretary of State Antony J. Blinken meeting w...  \n",
      "40  Viewing the flow of molten lava from a fissure...  \n",
      "41  Hindu devotees celebrate the festival of Holi ...  \n",
      "42  Secretary of State Antony J. Blinken arriving ...  \n",
      "43  Striking workers added wood to a fire to stay ...  \n",
      "44  Emergency vehicles outside the Crocus City Hal...  \n",
      "45  Gen. Muhoozi Kainerugaba, the son of Uganda’s ...  \n",
      "46  Rose Dugdale in 1974 after being sentenced to ...  \n",
      "47  Firefighters directing water onto a blaze on T...  \n",
      "48  A Ukrainian armored vehicle near Bakhmut in ea...  \n",
      "49  A Ukrainian armored vehicle near Bakhmut in ea...  \n",
      "50  Catherine, the princess of Wales, speaking on ...  \n",
      "51  Relatives of a victim of the bombing during a ...  \n",
      "52  Officers seized evidence on Wednesday a home i...  \n",
      "53  Secretary of State Antony J. Blinken arriving ...  \n",
      "54  Officers seized evidence on Wednesday a home i...  \n"
     ]
    }
   ],
   "source": [
    "# En aimant pandas, on décide de convertir le dataset en dataframe\n",
    "# On obtient notre tableau\n",
    "dataset_df = dataset['train'].to_pandas()\n",
    "print(dataset_df)"
   ]
  },
  {
   "cell_type": "code",
   "execution_count": 11,
   "id": "d76da55d-a82f-4e4b-a390-a34823aad6f2",
   "metadata": {},
   "outputs": [
    {
     "name": "stdout",
     "output_type": "stream",
     "text": [
      "20.490909090909092\n"
     ]
    }
   ],
   "source": [
    "# On calcule le nombre moyen de mots par texte\n",
    "avg_words = dataset_df['CONTENT'].apply(lambda x: len(x.split())).mean()\n",
    "print(avg_words)"
   ]
  },
  {
   "cell_type": "code",
   "execution_count": 13,
   "id": "843703a7-aaf3-4865-bbd0-bb259d7cce52",
   "metadata": {},
   "outputs": [
    {
     "name": "stdout",
     "output_type": "stream",
     "text": [
      "4.6909090909090905\n"
     ]
    }
   ],
   "source": [
    "# On calcule le nombre moyen de phrases par texte \n",
    "# Attention : on doit tenir compte des séparateurs de phrases --> PUNCT\n",
    "avg_sentences = dataset_df['CONTENT'].apply(lambda x: len(x.split('.')) + len(x.split('!')) + len(x.split('?'))).mean()\n",
    "print(avg_sentences)"
   ]
  },
  {
   "cell_type": "code",
   "execution_count": 14,
   "id": "b0e20d48-37af-4423-990b-96ff3c3c29d6",
   "metadata": {},
   "outputs": [
    {
     "name": "stdout",
     "output_type": "stream",
     "text": [
      "124.50909090909092\n"
     ]
    }
   ],
   "source": [
    "# On calcule la taille moyenne des fichiers en octets\n",
    "size = dataset_df['CONTENT'].apply(len).mean()\n",
    "print(size)"
   ]
  },
  {
   "cell_type": "code",
   "execution_count": 20,
   "id": "bcf16577-27a8-4c74-ba91-3ae2c2e918fe",
   "metadata": {},
   "outputs": [
    {
     "name": "stdout",
     "output_type": "stream",
     "text": [
      "Séance 3 - Information sur mon corpus :\n",
      "Nombre de textes : 55 fichiers\n",
      "Taille moyenne des textes en nombre de mots : 20.490909090909092\n",
      "Taille moyenne des textes en nombre de phrases : 4.6909090909090905\n",
      "Taille moyenne des fichiers : 124.50909090909092\n"
     ]
    }
   ],
   "source": [
    "# On affiche les informations sur notre corpus\n",
    "print(\"Séance 3 - Information sur mon corpus :\")\n",
    "print(\"Nombre de textes :\", len(dataset_df), \"fichiers\")\n",
    "print(\"Taille moyenne des textes en nombre de mots :\", avg_words)\n",
    "print(\"Taille moyenne des textes en nombre de phrases :\", avg_sentences)\n",
    "print(\"Taille moyenne des fichiers :\", size)"
   ]
  },
  {
   "cell_type": "code",
   "execution_count": null,
   "id": "1162d933-6e39-4210-9041-fde7a05714f5",
   "metadata": {},
   "outputs": [],
   "source": []
  }
 ],
 "metadata": {
  "kernelspec": {
   "display_name": "Python 3 (ipykernel)",
   "language": "python",
   "name": "python3"
  },
  "language_info": {
   "codemirror_mode": {
    "name": "ipython",
    "version": 3
   },
   "file_extension": ".py",
   "mimetype": "text/x-python",
   "name": "python",
   "nbconvert_exporter": "python",
   "pygments_lexer": "ipython3",
   "version": "3.11.6"
  }
 },
 "nbformat": 4,
 "nbformat_minor": 5
}
