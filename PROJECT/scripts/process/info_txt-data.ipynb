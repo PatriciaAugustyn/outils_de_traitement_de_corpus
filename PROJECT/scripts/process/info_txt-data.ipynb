{
 "cells": [
  {
   "cell_type": "code",
   "execution_count": 3,
   "metadata": {},
   "outputs": [
    {
     "name": "stdout",
     "output_type": "stream",
     "text": [
      "Collecting jupyter\n",
      "  Obtaining dependency information for jupyter from https://files.pythonhosted.org/packages/83/df/0f5dd132200728a86190397e1ea87cd76244e42d39ec5e88efd25b2abd7e/jupyter-1.0.0-py2.py3-none-any.whl.metadata\n",
      "  Downloading jupyter-1.0.0-py2.py3-none-any.whl.metadata (995 bytes)\n",
      "Collecting ipywidgets\n",
      "  Obtaining dependency information for ipywidgets from https://files.pythonhosted.org/packages/70/1a/7edeedb1c089d63ccd8bd5c0612334774e90cf9337de9fe6c82d90081791/ipywidgets-8.1.2-py3-none-any.whl.metadata\n",
      "  Downloading ipywidgets-8.1.2-py3-none-any.whl.metadata (2.4 kB)\n",
      "Requirement already satisfied: notebook in /home/patricia/Desktop/venv/lib/python3.11/site-packages (from jupyter) (7.1.2)\n",
      "Collecting qtconsole (from jupyter)\n",
      "  Obtaining dependency information for qtconsole from https://files.pythonhosted.org/packages/d5/21/0887c50fa5bca7bfde29f65999a6ac234617f2a007b6b387aa4dc0ca36a8/qtconsole-5.5.1-py3-none-any.whl.metadata\n",
      "  Using cached qtconsole-5.5.1-py3-none-any.whl.metadata (5.1 kB)\n",
      "Collecting jupyter-console (from jupyter)\n",
      "  Obtaining dependency information for jupyter-console from https://files.pythonhosted.org/packages/ca/77/71d78d58f15c22db16328a476426f7ac4a60d3a5a7ba3b9627ee2f7903d4/jupyter_console-6.6.3-py3-none-any.whl.metadata\n",
      "  Downloading jupyter_console-6.6.3-py3-none-any.whl.metadata (5.8 kB)\n",
      "Requirement already satisfied: nbconvert in /home/patricia/Desktop/venv/lib/python3.11/site-packages (from jupyter) (7.16.3)\n",
      "Requirement already satisfied: ipykernel in /home/patricia/Desktop/venv/lib/python3.11/site-packages (from jupyter) (6.29.4)\n",
      "Requirement already satisfied: comm>=0.1.3 in /home/patricia/Desktop/venv/lib/python3.11/site-packages (from ipywidgets) (0.2.2)\n",
      "Requirement already satisfied: ipython>=6.1.0 in /home/patricia/Desktop/venv/lib/python3.11/site-packages (from ipywidgets) (8.23.0)\n",
      "Requirement already satisfied: traitlets>=4.3.1 in /home/patricia/Desktop/venv/lib/python3.11/site-packages (from ipywidgets) (5.14.2)\n",
      "Collecting widgetsnbextension~=4.0.10 (from ipywidgets)\n",
      "  Obtaining dependency information for widgetsnbextension~=4.0.10 from https://files.pythonhosted.org/packages/99/bc/82a8c3985209ca7c0a61b383c80e015fd92e74f8ba0ec1af98f9d6ca8dce/widgetsnbextension-4.0.10-py3-none-any.whl.metadata\n",
      "  Downloading widgetsnbextension-4.0.10-py3-none-any.whl.metadata (1.6 kB)\n",
      "Collecting jupyterlab-widgets~=3.0.10 (from ipywidgets)\n",
      "  Obtaining dependency information for jupyterlab-widgets~=3.0.10 from https://files.pythonhosted.org/packages/24/da/db1cb0387a7e4086780aff137987ee924e953d7f91b2a870f994b9b1eeb8/jupyterlab_widgets-3.0.10-py3-none-any.whl.metadata\n",
      "  Downloading jupyterlab_widgets-3.0.10-py3-none-any.whl.metadata (4.1 kB)\n",
      "Requirement already satisfied: decorator in /home/patricia/Desktop/venv/lib/python3.11/site-packages (from ipython>=6.1.0->ipywidgets) (5.1.1)\n",
      "Requirement already satisfied: jedi>=0.16 in /home/patricia/Desktop/venv/lib/python3.11/site-packages (from ipython>=6.1.0->ipywidgets) (0.19.1)\n",
      "Requirement already satisfied: matplotlib-inline in /home/patricia/Desktop/venv/lib/python3.11/site-packages (from ipython>=6.1.0->ipywidgets) (0.1.6)\n",
      "Requirement already satisfied: prompt-toolkit<3.1.0,>=3.0.41 in /home/patricia/Desktop/venv/lib/python3.11/site-packages (from ipython>=6.1.0->ipywidgets) (3.0.43)\n",
      "Requirement already satisfied: pygments>=2.4.0 in /home/patricia/Desktop/venv/lib/python3.11/site-packages (from ipython>=6.1.0->ipywidgets) (2.17.2)\n",
      "Requirement already satisfied: stack-data in /home/patricia/Desktop/venv/lib/python3.11/site-packages (from ipython>=6.1.0->ipywidgets) (0.6.3)\n",
      "Requirement already satisfied: typing-extensions in /home/patricia/Desktop/venv/lib/python3.11/site-packages (from ipython>=6.1.0->ipywidgets) (4.11.0)\n",
      "Requirement already satisfied: pexpect>4.3 in /home/patricia/Desktop/venv/lib/python3.11/site-packages (from ipython>=6.1.0->ipywidgets) (4.9.0)\n",
      "Requirement already satisfied: debugpy>=1.6.5 in /home/patricia/Desktop/venv/lib/python3.11/site-packages (from ipykernel->jupyter) (1.8.1)\n",
      "Requirement already satisfied: jupyter-client>=6.1.12 in /home/patricia/Desktop/venv/lib/python3.11/site-packages (from ipykernel->jupyter) (8.6.1)\n",
      "Requirement already satisfied: jupyter-core!=5.0.*,>=4.12 in /home/patricia/Desktop/venv/lib/python3.11/site-packages (from ipykernel->jupyter) (5.7.2)\n",
      "Requirement already satisfied: nest-asyncio in /home/patricia/Desktop/venv/lib/python3.11/site-packages (from ipykernel->jupyter) (1.6.0)\n",
      "Requirement already satisfied: packaging in /home/patricia/Desktop/venv/lib/python3.11/site-packages (from ipykernel->jupyter) (24.0)\n",
      "Requirement already satisfied: psutil in /home/patricia/Desktop/venv/lib/python3.11/site-packages (from ipykernel->jupyter) (5.9.8)\n",
      "Requirement already satisfied: pyzmq>=24 in /home/patricia/Desktop/venv/lib/python3.11/site-packages (from ipykernel->jupyter) (25.1.2)\n",
      "Requirement already satisfied: tornado>=6.1 in /home/patricia/Desktop/venv/lib/python3.11/site-packages (from ipykernel->jupyter) (6.4)\n",
      "Requirement already satisfied: beautifulsoup4 in /home/patricia/Desktop/venv/lib/python3.11/site-packages (from nbconvert->jupyter) (4.12.3)\n",
      "Requirement already satisfied: bleach!=5.0.0 in /home/patricia/Desktop/venv/lib/python3.11/site-packages (from nbconvert->jupyter) (6.1.0)\n",
      "Requirement already satisfied: defusedxml in /home/patricia/Desktop/venv/lib/python3.11/site-packages (from nbconvert->jupyter) (0.7.1)\n",
      "Requirement already satisfied: jinja2>=3.0 in /home/patricia/Desktop/venv/lib/python3.11/site-packages (from nbconvert->jupyter) (3.1.3)\n",
      "Requirement already satisfied: jupyterlab-pygments in /home/patricia/Desktop/venv/lib/python3.11/site-packages (from nbconvert->jupyter) (0.3.0)\n",
      "Requirement already satisfied: markupsafe>=2.0 in /home/patricia/Desktop/venv/lib/python3.11/site-packages (from nbconvert->jupyter) (2.1.5)\n",
      "Requirement already satisfied: mistune<4,>=2.0.3 in /home/patricia/Desktop/venv/lib/python3.11/site-packages (from nbconvert->jupyter) (3.0.2)\n",
      "Requirement already satisfied: nbclient>=0.5.0 in /home/patricia/Desktop/venv/lib/python3.11/site-packages (from nbconvert->jupyter) (0.10.0)\n",
      "Requirement already satisfied: nbformat>=5.7 in /home/patricia/Desktop/venv/lib/python3.11/site-packages (from nbconvert->jupyter) (5.10.4)\n",
      "Requirement already satisfied: pandocfilters>=1.4.1 in /home/patricia/Desktop/venv/lib/python3.11/site-packages (from nbconvert->jupyter) (1.5.1)\n",
      "Requirement already satisfied: tinycss2 in /home/patricia/Desktop/venv/lib/python3.11/site-packages (from nbconvert->jupyter) (1.2.1)\n",
      "Requirement already satisfied: jupyter-server<3,>=2.4.0 in /home/patricia/Desktop/venv/lib/python3.11/site-packages (from notebook->jupyter) (2.13.0)\n",
      "Requirement already satisfied: jupyterlab-server<3,>=2.22.1 in /home/patricia/Desktop/venv/lib/python3.11/site-packages (from notebook->jupyter) (2.26.0)\n",
      "Requirement already satisfied: jupyterlab<4.2,>=4.1.1 in /home/patricia/Desktop/venv/lib/python3.11/site-packages (from notebook->jupyter) (4.1.6)\n",
      "Requirement already satisfied: notebook-shim<0.3,>=0.2 in /home/patricia/Desktop/venv/lib/python3.11/site-packages (from notebook->jupyter) (0.2.4)\n",
      "Collecting qtpy>=2.4.0 (from qtconsole->jupyter)\n",
      "  Obtaining dependency information for qtpy>=2.4.0 from https://files.pythonhosted.org/packages/7e/a9/2146d5117ad8a81185331e0809a6b48933c10171f5bac253c6df9fce991c/QtPy-2.4.1-py3-none-any.whl.metadata\n",
      "  Using cached QtPy-2.4.1-py3-none-any.whl.metadata (12 kB)\n",
      "Requirement already satisfied: six>=1.9.0 in /home/patricia/Desktop/venv/lib/python3.11/site-packages (from bleach!=5.0.0->nbconvert->jupyter) (1.16.0)\n",
      "Requirement already satisfied: webencodings in /home/patricia/Desktop/venv/lib/python3.11/site-packages (from bleach!=5.0.0->nbconvert->jupyter) (0.5.1)\n",
      "Requirement already satisfied: parso<0.9.0,>=0.8.3 in /home/patricia/Desktop/venv/lib/python3.11/site-packages (from jedi>=0.16->ipython>=6.1.0->ipywidgets) (0.8.4)\n",
      "Requirement already satisfied: python-dateutil>=2.8.2 in /home/patricia/Desktop/venv/lib/python3.11/site-packages (from jupyter-client>=6.1.12->ipykernel->jupyter) (2.9.0.post0)\n",
      "Requirement already satisfied: platformdirs>=2.5 in /home/patricia/Desktop/venv/lib/python3.11/site-packages (from jupyter-core!=5.0.*,>=4.12->ipykernel->jupyter) (4.2.0)\n",
      "Requirement already satisfied: anyio>=3.1.0 in /home/patricia/Desktop/venv/lib/python3.11/site-packages (from jupyter-server<3,>=2.4.0->notebook->jupyter) (4.3.0)\n",
      "Requirement already satisfied: argon2-cffi in /home/patricia/Desktop/venv/lib/python3.11/site-packages (from jupyter-server<3,>=2.4.0->notebook->jupyter) (23.1.0)\n",
      "Requirement already satisfied: jupyter-events>=0.9.0 in /home/patricia/Desktop/venv/lib/python3.11/site-packages (from jupyter-server<3,>=2.4.0->notebook->jupyter) (0.10.0)\n",
      "Requirement already satisfied: jupyter-server-terminals in /home/patricia/Desktop/venv/lib/python3.11/site-packages (from jupyter-server<3,>=2.4.0->notebook->jupyter) (0.5.3)\n",
      "Requirement already satisfied: overrides in /home/patricia/Desktop/venv/lib/python3.11/site-packages (from jupyter-server<3,>=2.4.0->notebook->jupyter) (7.7.0)\n",
      "Requirement already satisfied: prometheus-client in /home/patricia/Desktop/venv/lib/python3.11/site-packages (from jupyter-server<3,>=2.4.0->notebook->jupyter) (0.20.0)\n",
      "Requirement already satisfied: send2trash>=1.8.2 in /home/patricia/Desktop/venv/lib/python3.11/site-packages (from jupyter-server<3,>=2.4.0->notebook->jupyter) (1.8.3)\n",
      "Requirement already satisfied: terminado>=0.8.3 in /home/patricia/Desktop/venv/lib/python3.11/site-packages (from jupyter-server<3,>=2.4.0->notebook->jupyter) (0.18.1)\n",
      "Requirement already satisfied: websocket-client in /home/patricia/Desktop/venv/lib/python3.11/site-packages (from jupyter-server<3,>=2.4.0->notebook->jupyter) (1.7.0)\n",
      "Requirement already satisfied: async-lru>=1.0.0 in /home/patricia/Desktop/venv/lib/python3.11/site-packages (from jupyterlab<4.2,>=4.1.1->notebook->jupyter) (2.0.4)\n",
      "Requirement already satisfied: httpx>=0.25.0 in /home/patricia/Desktop/venv/lib/python3.11/site-packages (from jupyterlab<4.2,>=4.1.1->notebook->jupyter) (0.27.0)\n",
      "Requirement already satisfied: jupyter-lsp>=2.0.0 in /home/patricia/Desktop/venv/lib/python3.11/site-packages (from jupyterlab<4.2,>=4.1.1->notebook->jupyter) (2.2.4)\n",
      "Requirement already satisfied: babel>=2.10 in /home/patricia/Desktop/venv/lib/python3.11/site-packages (from jupyterlab-server<3,>=2.22.1->notebook->jupyter) (2.14.0)\n",
      "Requirement already satisfied: json5>=0.9.0 in /home/patricia/Desktop/venv/lib/python3.11/site-packages (from jupyterlab-server<3,>=2.22.1->notebook->jupyter) (0.9.24)\n",
      "Requirement already satisfied: jsonschema>=4.18.0 in /home/patricia/Desktop/venv/lib/python3.11/site-packages (from jupyterlab-server<3,>=2.22.1->notebook->jupyter) (4.21.1)\n",
      "Requirement already satisfied: requests>=2.31 in /home/patricia/Desktop/venv/lib/python3.11/site-packages (from jupyterlab-server<3,>=2.22.1->notebook->jupyter) (2.31.0)\n",
      "Requirement already satisfied: fastjsonschema>=2.15 in /home/patricia/Desktop/venv/lib/python3.11/site-packages (from nbformat>=5.7->nbconvert->jupyter) (2.19.1)\n",
      "Requirement already satisfied: ptyprocess>=0.5 in /home/patricia/Desktop/venv/lib/python3.11/site-packages (from pexpect>4.3->ipython>=6.1.0->ipywidgets) (0.7.0)\n",
      "Requirement already satisfied: wcwidth in /home/patricia/Desktop/venv/lib/python3.11/site-packages (from prompt-toolkit<3.1.0,>=3.0.41->ipython>=6.1.0->ipywidgets) (0.2.13)\n",
      "Requirement already satisfied: soupsieve>1.2 in /home/patricia/Desktop/venv/lib/python3.11/site-packages (from beautifulsoup4->nbconvert->jupyter) (2.5)\n",
      "Requirement already satisfied: executing>=1.2.0 in /home/patricia/Desktop/venv/lib/python3.11/site-packages (from stack-data->ipython>=6.1.0->ipywidgets) (2.0.1)\n",
      "Requirement already satisfied: asttokens>=2.1.0 in /home/patricia/Desktop/venv/lib/python3.11/site-packages (from stack-data->ipython>=6.1.0->ipywidgets) (2.4.1)\n",
      "Requirement already satisfied: pure-eval in /home/patricia/Desktop/venv/lib/python3.11/site-packages (from stack-data->ipython>=6.1.0->ipywidgets) (0.2.2)\n",
      "Requirement already satisfied: idna>=2.8 in /home/patricia/Desktop/venv/lib/python3.11/site-packages (from anyio>=3.1.0->jupyter-server<3,>=2.4.0->notebook->jupyter) (3.6)\n",
      "Requirement already satisfied: sniffio>=1.1 in /home/patricia/Desktop/venv/lib/python3.11/site-packages (from anyio>=3.1.0->jupyter-server<3,>=2.4.0->notebook->jupyter) (1.3.1)\n",
      "Requirement already satisfied: certifi in /home/patricia/Desktop/venv/lib/python3.11/site-packages (from httpx>=0.25.0->jupyterlab<4.2,>=4.1.1->notebook->jupyter) (2024.2.2)\n",
      "Requirement already satisfied: httpcore==1.* in /home/patricia/Desktop/venv/lib/python3.11/site-packages (from httpx>=0.25.0->jupyterlab<4.2,>=4.1.1->notebook->jupyter) (1.0.5)\n",
      "Requirement already satisfied: h11<0.15,>=0.13 in /home/patricia/Desktop/venv/lib/python3.11/site-packages (from httpcore==1.*->httpx>=0.25.0->jupyterlab<4.2,>=4.1.1->notebook->jupyter) (0.14.0)\n",
      "Requirement already satisfied: attrs>=22.2.0 in /home/patricia/Desktop/venv/lib/python3.11/site-packages (from jsonschema>=4.18.0->jupyterlab-server<3,>=2.22.1->notebook->jupyter) (23.2.0)\n",
      "Requirement already satisfied: jsonschema-specifications>=2023.03.6 in /home/patricia/Desktop/venv/lib/python3.11/site-packages (from jsonschema>=4.18.0->jupyterlab-server<3,>=2.22.1->notebook->jupyter) (2023.12.1)\n",
      "Requirement already satisfied: referencing>=0.28.4 in /home/patricia/Desktop/venv/lib/python3.11/site-packages (from jsonschema>=4.18.0->jupyterlab-server<3,>=2.22.1->notebook->jupyter) (0.34.0)\n",
      "Requirement already satisfied: rpds-py>=0.7.1 in /home/patricia/Desktop/venv/lib/python3.11/site-packages (from jsonschema>=4.18.0->jupyterlab-server<3,>=2.22.1->notebook->jupyter) (0.18.0)\n",
      "Requirement already satisfied: python-json-logger>=2.0.4 in /home/patricia/Desktop/venv/lib/python3.11/site-packages (from jupyter-events>=0.9.0->jupyter-server<3,>=2.4.0->notebook->jupyter) (2.0.7)\n",
      "Requirement already satisfied: pyyaml>=5.3 in /home/patricia/Desktop/venv/lib/python3.11/site-packages (from jupyter-events>=0.9.0->jupyter-server<3,>=2.4.0->notebook->jupyter) (6.0.1)\n",
      "Requirement already satisfied: rfc3339-validator in /home/patricia/Desktop/venv/lib/python3.11/site-packages (from jupyter-events>=0.9.0->jupyter-server<3,>=2.4.0->notebook->jupyter) (0.1.4)\n",
      "Requirement already satisfied: rfc3986-validator>=0.1.1 in /home/patricia/Desktop/venv/lib/python3.11/site-packages (from jupyter-events>=0.9.0->jupyter-server<3,>=2.4.0->notebook->jupyter) (0.1.1)\n",
      "Requirement already satisfied: charset-normalizer<4,>=2 in /home/patricia/Desktop/venv/lib/python3.11/site-packages (from requests>=2.31->jupyterlab-server<3,>=2.22.1->notebook->jupyter) (3.3.2)\n",
      "Requirement already satisfied: urllib3<3,>=1.21.1 in /home/patricia/Desktop/venv/lib/python3.11/site-packages (from requests>=2.31->jupyterlab-server<3,>=2.22.1->notebook->jupyter) (2.2.1)\n",
      "Requirement already satisfied: argon2-cffi-bindings in /home/patricia/Desktop/venv/lib/python3.11/site-packages (from argon2-cffi->jupyter-server<3,>=2.4.0->notebook->jupyter) (21.2.0)\n",
      "Requirement already satisfied: fqdn in /home/patricia/Desktop/venv/lib/python3.11/site-packages (from jsonschema>=4.18.0->jupyterlab-server<3,>=2.22.1->notebook->jupyter) (1.5.1)\n",
      "Requirement already satisfied: isoduration in /home/patricia/Desktop/venv/lib/python3.11/site-packages (from jsonschema>=4.18.0->jupyterlab-server<3,>=2.22.1->notebook->jupyter) (20.11.0)\n",
      "Requirement already satisfied: jsonpointer>1.13 in /home/patricia/Desktop/venv/lib/python3.11/site-packages (from jsonschema>=4.18.0->jupyterlab-server<3,>=2.22.1->notebook->jupyter) (2.4)\n",
      "Requirement already satisfied: uri-template in /home/patricia/Desktop/venv/lib/python3.11/site-packages (from jsonschema>=4.18.0->jupyterlab-server<3,>=2.22.1->notebook->jupyter) (1.3.0)\n",
      "Requirement already satisfied: webcolors>=1.11 in /home/patricia/Desktop/venv/lib/python3.11/site-packages (from jsonschema>=4.18.0->jupyterlab-server<3,>=2.22.1->notebook->jupyter) (1.13)\n",
      "Requirement already satisfied: cffi>=1.0.1 in /home/patricia/Desktop/venv/lib/python3.11/site-packages (from argon2-cffi-bindings->argon2-cffi->jupyter-server<3,>=2.4.0->notebook->jupyter) (1.16.0)\n",
      "Requirement already satisfied: pycparser in /home/patricia/Desktop/venv/lib/python3.11/site-packages (from cffi>=1.0.1->argon2-cffi-bindings->argon2-cffi->jupyter-server<3,>=2.4.0->notebook->jupyter) (2.22)\n",
      "Requirement already satisfied: arrow>=0.15.0 in /home/patricia/Desktop/venv/lib/python3.11/site-packages (from isoduration->jsonschema>=4.18.0->jupyterlab-server<3,>=2.22.1->notebook->jupyter) (1.3.0)\n",
      "Requirement already satisfied: types-python-dateutil>=2.8.10 in /home/patricia/Desktop/venv/lib/python3.11/site-packages (from arrow>=0.15.0->isoduration->jsonschema>=4.18.0->jupyterlab-server<3,>=2.22.1->notebook->jupyter) (2.9.0.20240316)\n",
      "Using cached jupyter-1.0.0-py2.py3-none-any.whl (2.7 kB)\n",
      "Downloading ipywidgets-8.1.2-py3-none-any.whl (139 kB)\n",
      "\u001b[2K   \u001b[38;2;114;156;31m━━━━━━━━━━━━━━━━━━━━━━━━━━━━━━━━━━━━━━━━\u001b[0m \u001b[32m139.4/139.4 kB\u001b[0m \u001b[31m1.4 MB/s\u001b[0m eta \u001b[36m0:00:00\u001b[0m MB/s\u001b[0m eta \u001b[36m0:00:01\u001b[0m01\u001b[0m\n",
      "\u001b[?25hDownloading jupyterlab_widgets-3.0.10-py3-none-any.whl (215 kB)\n",
      "\u001b[2K   \u001b[38;2;114;156;31m━━━━━━━━━━━━━━━━━━━━━━━━━━━━━━━━━━━━━━━━\u001b[0m \u001b[32m215.0/215.0 kB\u001b[0m \u001b[31m1.6 MB/s\u001b[0m eta \u001b[36m0:00:00\u001b[0m[31m1.4 MB/s\u001b[0m eta \u001b[36m0:00:01\u001b[0m\n",
      "\u001b[?25hDownloading widgetsnbextension-4.0.10-py3-none-any.whl (2.3 MB)\n",
      "\u001b[2K   \u001b[38;2;114;156;31m━━━━━━━━━━━━━━━━━━━━━━━━━━━━━━━━━━━━━━━━\u001b[0m \u001b[32m2.3/2.3 MB\u001b[0m \u001b[31m1.8 MB/s\u001b[0m eta \u001b[36m0:00:00\u001b[0mm eta \u001b[36m0:00:01\u001b[0m[36m0:00:01\u001b[0m\n",
      "\u001b[?25hUsing cached jupyter_console-6.6.3-py3-none-any.whl (24 kB)\n",
      "Using cached qtconsole-5.5.1-py3-none-any.whl (123 kB)\n",
      "Using cached QtPy-2.4.1-py3-none-any.whl (93 kB)\n",
      "Installing collected packages: widgetsnbextension, qtpy, jupyterlab-widgets, ipywidgets, qtconsole, jupyter-console, jupyter\n",
      "Successfully installed ipywidgets-8.1.2 jupyter-1.0.0 jupyter-console-6.6.3 jupyterlab-widgets-3.0.10 qtconsole-5.5.1 qtpy-2.4.1 widgetsnbextension-4.0.10\n",
      "usage: jupyter [-h] [--version] [--config-dir] [--data-dir] [--runtime-dir]\n",
      "               [--paths] [--json] [--debug]\n",
      "               [subcommand]\n",
      "\n",
      "Jupyter: Interactive Computing\n",
      "\n",
      "positional arguments:\n",
      "  subcommand     the subcommand to launch\n",
      "\n",
      "options:\n",
      "  -h, --help     show this help message and exit\n",
      "  --version      show the versions of core jupyter packages and exit\n",
      "  --config-dir   show Jupyter config dir\n",
      "  --data-dir     show Jupyter data dir\n",
      "  --runtime-dir  show Jupyter runtime dir\n",
      "  --paths        show all Jupyter paths. Add --json for machine-readable\n",
      "                 format.\n",
      "  --json         output paths as machine-readable json\n",
      "  --debug        output debug information about paths\n",
      "\n",
      "Available subcommands: console dejavu events execute kernel kernelspec lab\n",
      "labextension labhub migrate nbconvert notebook qtconsole run server\n",
      "troubleshoot trust\n",
      "\n",
      "Jupyter command `jupyter-nbextension` not found.\n"
     ]
    }
   ],
   "source": [
    "#!pip install pandas"
   ]
  },
  {
   "cell_type": "code",
   "execution_count": 5,
   "metadata": {},
   "outputs": [],
   "source": [
    "#!pip install --upgrade jupyter ipywidgets\n",
    "#!jupyter nbextension enable --py widgetsnbextension\n",
    "\n"
   ]
  },
  {
   "cell_type": "code",
   "execution_count": 1,
   "metadata": {},
   "outputs": [],
   "source": [
    "import os\n",
    "import pandas as pd"
   ]
  },
  {
   "cell_type": "code",
   "execution_count": 3,
   "metadata": {},
   "outputs": [],
   "source": [
    "# Chemin vers notre dossier \n",
    "folder_path = '../../data/clean/'"
   ]
  },
  {
   "cell_type": "code",
   "execution_count": 5,
   "metadata": {},
   "outputs": [
    {
     "name": "stdout",
     "output_type": "stream",
     "text": [
      "['nyt_27.txt', 'nyt_32.txt', 'nyt_30.txt', 'nyt_44.txt', 'nyt_22.txt', 'nyt_3.txt', 'nyt_28.txt', 'nyt_21.txt', 'nyt_43.txt', 'nyt_25.txt', 'nyt_52.txt', 'nyt_4.txt', 'nyt_8.txt', 'nyt_46.txt', 'nyt_31.txt', 'nyt_50.txt', 'nyt_40.txt', 'nyt_29.txt', 'nyt_39.txt', 'nyt_55.txt', 'nyt_6.txt', 'nyt_7.txt', 'nyt_54.txt', 'nyt_1.txt', 'nyt_36.txt', 'nyt_15.txt', 'nyt_34.txt', 'nyt_9.txt', 'nyt_12.txt', 'nyt_5.txt', 'nyt_11.txt', 'nyt_51.txt', 'nyt_45.txt', 'nyt_14.txt', 'nyt_38.txt', 'nyt_20.txt', 'nyt_17.txt', 'nyt_53.txt', 'nyt_10.txt', 'nyt_49.txt', 'nyt_2.txt', 'nyt_18.txt', 'nyt_37.txt', 'nyt_24.txt', 'nyt_48.txt', 'nyt_23.txt', 'nyt_41.txt', 'nyt_13.txt', 'nyt_19.txt', 'nyt_33.txt', 'nyt_16.txt', 'nyt_26.txt', 'nyt_42.txt', 'nyt_47.txt', 'nyt_35.txt']\n"
     ]
    }
   ],
   "source": [
    "# On veut obtenir tous les fichiers dans notre dossier avec l'extension .txt à la fin\n",
    "txt_files = []\n",
    "for filename in os.listdir(folder_path):\n",
    "    if filename.endswith(\".txt\"):\n",
    "        txt_files.append(filename)\n",
    "print(txt_files)"
   ]
  },
  {
   "cell_type": "code",
   "execution_count": 7,
   "metadata": {},
   "outputs": [
    {
     "name": "stdout",
     "output_type": "stream",
     "text": [
      "['https://www.nytimes.com/2024/03/22/world/asia/holi-colors-spring-festival-india.html\\nHoli: What to Know about India’s Most Colorful Tradition\\nHindu devotees celebrate the festival of Holi in Uttar Pradesh, India, in 2022.\\nThe ancient festival has Hindu roots, but growing numbers worldwide are taking part in the celebration, which features bonfires, singing, dancing, prayer, feasting and clouds of pigmented powder.\\n', \"https://www.nytimes.com/2024/03/21/world/australia/new-zealand-sounds-air-flying-domestic.html\\nIn New Zealand, Experiencing the Miracle of Flight Anew\\nSecretary of State Antony J. Blinken arriving in Cairo on Thursday to discuss the war in Gaza with Mideast leaders.\\nThe country's domestic airlines play a crucial role in connectivity. But for the casual flier, even the journey is captivating.\\n\", 'https://www.nytimes.com/2024/03/21/world/middleeast/gaza-blinken-ceasefire.html\\nU.S. to Present Gaza Cease-Fire Resolution at U.N. Security Council\\nSecretary of State Antony J. Blinken arriving in Cairo on Thursday to discuss the war in Gaza with Mideast leaders.\\nA resolution for the U.N. that American diplomats are circulating was notable for its strong language in seeking a cease-fire in Gaza and the release of hostages.\\n', 'https://www.nytimes.com/2024/03/21/science/archaeology-hallucinogens-henbane.html\\nLong Before Amsterdam’s Coffee Shops, There Were Hallucinogenic Seeds\\nMigrant agricultural workers unloading fruit crates in a citrus grove in Faro, Portugal, on Tuesday.\\nA nearly 2,000-year-old stash pouch provides the first evidence of the intentional use of a powerful psychedelic plant in Western Europe during the Roman Era.\\n', 'https://www.nytimes.com/2024/03/22/world/middleeast/us-cease-fire-resolution-vetoes.html\\nA Look at Previous U.S. Vetoes of Gaza Cease-Fire Resolutions in the U.N.\\nLinda Thomas-Greenfield, the U.S. ambassador to the United Nations, voted against a resolution calling for an immediate cease-fire last month.\\nBefore a U.S. resolution in the United Nations Security Council calling for a cease-fire in Gaza was vetoed on Friday, the U.S. had vetoed three previous ones demanding a halt to the fighting.\\n', 'https://www.nytimes.com/live/2024/03/22/world/princess-kate-middleton-cancer\\nLive Updates: Catherine, Princess of Wales, Reveals She Has Cancer\\nRussia, China and Algeria voted against the U.S. resolution, and Guyana abstained, at the U.N. Security Council meeting in New York on Friday.\\nThe princess described the news as a “huge shock” and asked for “time, space and privacy” in a prerecorded video broadcast on the BBC on Friday evening in Britain.\\n', 'https://www.nytimes.com/2024/03/22/technology/china-ai-talent.html\\nIn One Key A.I. Metric, China Pulls Ahead of the U.S.: Talent\\nThe World Artificial Intelligence Conference in Shanghai in July 2023. China has invested heavily in A.I. education.\\nChina has produced a huge number of top A.I. engineers in recent years. New research shows that, by some measures, it has already eclipsed the United States.\\n', 'https://www.nytimes.com/2024/03/22/climate/toyota-hybrid-epa-pollution.html\\nHow the New E.P.A. Rules Affect Toyota and Their Hybrid Cars\\nCharging up in Lake Park, Fla.\\nThe auto giant lobbied hard against tougher pollution rules. This week, the E.P.A.’s new rules proved favorable to hybrid technology, an area that Toyota dominates.\\n', 'https://www.nytimes.com/2024/03/21/world/europe/portugal-chega.html\\nPortugal Had Little Appetite for the Far Right, Until Chega\\nMigrant agricultural workers unloading fruit crates in a citrus grove in Faro, Portugal, on Tuesday.\\nMemories of dictatorship are fading. Dissatisfaction is mounting. It was a ripe moment for the Chega party to appeal to voter frustrations.\\n', 'https://www.nytimes.com/2024/03/22/world/middleeast/blinken-netanyahu-israel-cease-fire.html\\nBlinken Meets With Netanyahu at Moment of Tension Between U.S. and Israel\\nSecretary of State Antony J. Blinken arrived in Tel Aviv for meetings with Israeli officials on Friday.\\nPrime Minister Benjamin Netanyahu repeated that Israel was determined to send troops into the crowded southern Gaza city of Rafah despite U.S. urgings not to.\\n', 'https://www.nytimes.com/2024/03/20/world/asia/gaza-aid-evs-hong-kong-asia.html\\nThursday Briefing: Where is Gaza’s Aid?\\nPrime Minister Rishi Sunak of Britain argues that flights to Rwanda would be a vital deterrent to immigration.\\nAlso, sweeping U.S. climate regulations and the “3 Body Problem” on Netflix.\\n', 'https://www.nytimes.com/2024/03/22/world/europe/russia-ukraine-toll-bodies.html\\nCollecting the Dead Russia Left Behind\\nA drone photograph showing Russian soldiers killed on the battlefield on the front line of eastern Ukraine.\\nCivilians who gather dead Russian soldiers face many of the war’s perils along the front, where death is ubiquitous.\\n', 'https://www.nytimes.com/2024/03/22/world/africa/uganda-president-son.html\\nUganda President Museveni Appoints His Son as Top Army Commander\\nGen. Muhoozi Kainerugaba, the son of Uganda’s president, has been working to raise his profile and set himself up as heir apparent.\\nGen. Muhoozi Kainerugaba, who has a reputation for provocative late-night tweets, has been working to position himself as heir apparent to his father, President Yoweri Museveni.\\n', 'https://www.nytimes.com/2024/03/21/climate/climate-change-heat-wave-west-africa.html\\nClimate Change Made an Early Heat Wave in West Africa 10 Times as Likely\\nHenock Inonga, of the Democratic Republic of Congo’s national soccer team, cooled off before a match with Ivory Coast in Abidjan on Feb. 7. Players in the Africa Cup of Nations tournament had to take extra breaks to hydrate because of the heat wave.\\nTemperatures in the region rose above 40 degrees Celsius in February, with humidity pushing the heat index even higher.\\n', 'https://www.nytimes.com/2024/03/21/world/americas/haiti-evacuation-florida-family.html\\nAs Americans Flee Haiti, 2-Year-Old Is Separated from His Parents\\nSecretary of State Antony J. Blinken arriving in Cairo on Thursday to discuss the war in Gaza with Mideast leaders.\\nThe boy had been dropped off with relatives nearly three weeks ago and was airlifted back to his Florida home. He is part of a growing number of Americans trying to flee Haiti.\\n', 'https://www.nytimes.com/2024/03/20/world/middleeast/israel-gaza-hamas-power-vacuum.html\\nIsrael-Hamas War in Gaza Leaves Power Vacuum\\nA ceremony in 2022 for the 35th anniversary of the founding of Hamas in Gaza City.\\nAnalysts say the Israeli military’s return to the largest hospital complex in the enclave may foretell more chaos without governance.\\n', 'https://www.nytimes.com/2024/03/21/science/odor-adolescents-chemistry.html\\nToddlers Smell Like Flowers, Teens Smell ‘Goatlike,’ Study Finds\\nOfficers seized evidence on Wednesday a home in Granada, Spain, owned by the former Spanish soccer federation chief Luis Rubiales.\\nTwo musky steroids, and higher levels of odorous acids, distinguish the body odors of adolescents and tots.\\n', 'https://www.nytimes.com/2024/03/21/world/middleeast/gaza-hospitals-doctors-israel-congress.html\\nDoctors, Back From Gaza Hospitals, Tell Congress of Horrors Amid Cease-Fire Push\\nThe World Artificial Intelligence Conference in Shanghai in July 2023. China has invested heavily in A.I. education.\\nVolunteers who treated patients in harrowing conditions lobbied American officials on the urgency of an immediate cease-fire.\\n', 'https://www.nytimes.com/2024/03/21/world/europe/rubiales-soccer-arrest-spain-super-cup.html\\nLuis Rubiales, Former Spanish Soccer Chief, Faces Arrest\\nOfficers seized evidence on Wednesday a home in Granada, Spain, owned by the former Spanish soccer federation chief Luis Rubiales.\\nMr. Rubiales, who resigned after kissing a player at the Women’s World Cup, is a focus of Spanish investigators looking into accusations of corruption and money laundering.\\n', 'https://www.nytimes.com/2024/03/20/world/middleeast/unrwa-senate-gaza.html\\nCongress Seeks to Bar Funding for U.N. Agency for Palestinians\\nPalestinians gathered to receive aid outside an UNRWA warehouse in Gaza City on Monday.\\nA bill would bar support for the agency, UNRWA, amid accusations that some employees were Hamas fighters. Other countries are scrambling to make up the looming shortfall.\\n', 'https://www.nytimes.com/2024/03/22/world/africa/democracy-senegal-africa-france.html\\nDemocracy Crumbling in African Countries Once Ruled by France\\nWatching President Macky Sall of Senegal speak at a news conference last month. He tried to postpone a presidential election that was only three weeks away.\\nA wave of military coups and presidents clinging to power are two sides of the same anti-democratic coin plaguing Francophone Africa, experts say.\\n', 'https://www.nytimes.com/2024/03/22/business/artificial-intelligence-anguilla.html\\nThe A.I. Boom Makes Millions for an Unlikely Industry Player: Anguilla\\nFor each domain registration, Anguilla’s government gets anywhere from $140 to thousands of dollars from website names sold at auctions.\\nThe small Caribbean territory brought in $32 million last year, more than 10 percent of its G.D.P., from companies registering web addresses that end in .ai.\\n', 'https://www.nytimes.com/2024/03/20/world/europe/eu-russia-weapons-ukraine.html\\nE.U. Plans to Use Russian Frozen Assets to Pay for Weapons for Ukraine\\nA Ukrainian armored vehicle near Bakhmut in eastern Ukraine, last month. Soldiers on the front lines are reporting shortages of ammunition.\\nUsing interest earned on frozen Russian assets held in Europe, the bloc plans to raise billions. But other ways to pay for new weapons remain elusive.\\n', 'https://www.nytimes.com/live/2024/03/22/world/moscow-shooting\\nLive Updates: Gunmen Kill at Least 40 at Moscow Concert Hall, Russian Officials Say\\nEmergency vehicles outside the Crocus City Hall concert venue in Moscow after an attack on Friday.\\nThere was no report of who might be responsible for what could be one of the deadliest attacks in Russia in decades.\\n', 'https://www.nytimes.com/2024/03/21/world/europe/interpreter-elections-putin.html\\nWhy Do Autocrats Like Putin Bother to Hold Elections?\\nThe visage of President Vladimir V. Putin was part of the stage at a celebration in Red Square after his “re-election.”\\nThese votes can demonstrate control, serve as a warning and create the illusion of accountability.\\n', 'https://www.nytimes.com/2024/03/22/world/europe/moscow-concert-hall-attack-photos.html\\nThe Deadly Moscow Concert Hall Attack in Photos\\nCrocus City Hall in Moscow on fire Friday night after a major attack.\\nImages show the scene of what could be the deadliest attack in Russia in decades. Multiple gunmen killed at least 40 people in an assault in the capital’s outskirts.\\n', 'https://www.nytimes.com/2024/03/21/world/europe/vaughan-gething-wales-parliament.html\\nVaughan Gething of Wales Is Europe’s First Black Head of Government\\nVaughan Gething poses for a photo, in a lecture hall at Cardiff University, after being elected as the next Welsh Labour leader and First Minister of Wales, in Cardiff, Saturday, March 16, 2024.\\nMr. Gething, 50, was narrowly elected leader of Wales’s governing Labour Party this week, and then was elected first minister by the Senedd, or Welsh Parliament.\\n', 'https://www.nytimes.com/2024/03/22/world/europe/germany-strikes-economy.html\\n‘Strike Madness’ Hits Germany While Its Economy Stumbles\\nStriking workers added wood to a fire to stay warm during evening shifts in front of a recycling plant owned by the company SRW in Rötha, Germany, on Wednesday.\\nA wave of strikes by German workers, feeling the sting of inflation and stagnant growth, is the latest sign of the bleak outlook for Europe’s economic powerhouse.\\n', 'https://www.nytimes.com/2024/03/22/world/europe/rose-dugdale-dead.html\\nRose Dugdale, Heiress Turned Irish Independence Fighter, Dies at 82\\nRose Dugdale in 1974 after being sentenced to nine years in prison for crimes including art theft. Born an English heiress, she left her wealth behind to join the Irish Republican Army.\\nBorn into English wealth and Oxford-educated, she left it all behind for a life of radical and often violent activism.\\n', 'https://www.nytimes.com/2024/03/22/world/europe/russia-ukraine-war-attack.html\\nRussian Attack Leaves Over a Million in Ukraine Without Electricity\\nRescuers amid destroyed homes in Zaporizhzhia, southeastern Ukraine, on Friday. Strikes there also hit hydroelectric facilities.\\nPower plants and a major hydroelectric dam were damaged in what Ukrainian officials said was one of the war’s largest assaults on energy infrastructure.\\n', 'https://www.nytimes.com/2024/03/22/world/europe/norman-miller-dead.html\\nNorman Miller, German Refugee Who Helped Arrest a Top Nazi, Dies at 99\\nStriking workers added wood to a fire to stay warm during evening shifts in front of a recycling plant owned by the company SRW in Rötha, Germany, on Wednesday.\\nAt 15, he escaped to England. At 20, he enlisted in the British Army and identified a German minister — whose roles included deporting Dutch Jews to labor camps — as he tried to flee.\\n', 'https://www.nytimes.com/2024/03/20/world/europe/uk-rwanda-bill-lords.html\\nU.K. Bill to Send Asylum Seekers to Rwanda Is Stalled by House of Lords\\nPrime Minister Rishi Sunak of Britain argues that flights to Rwanda would be a vital deterrent to immigration.\\nParliament is all but certain to approve the government’s plan, but a rare show of defiance by the unelected upper house showed the depth of opposition.\\n', 'https://www.nytimes.com/2024/03/21/world/middleeast/blinken-un-cease-fire.html\\nBlinken Describes New U.S. Push for Cease-Fire in Gaza\\nSecretary of State Antony J. Blinken meeting with Prince Faisal bin Farhan, Saudi Arabia’s foreign minister, in Jeddah on Wednesday.\\nIn Saudi Arabia, the secretary of state discussed a U.S. draft resolution at the U.N. Security Council calling for “an immediate cease-fire tied to the release of hostages” in Gaza.\\n', 'https://www.nytimes.com/2024/03/22/world/australia/screen-free-school.html\\nWhat We Gained (and Lost) When Our Daughter Unplugged for a School Year\\nLetters sent by the author’s daughter from Timbertop, a school campus in the Australian bush.\\nMy 13-year-old has left her phone behind for hiking, chores and study in the Australian wilderness. Our pen-and-paper correspondence is opening up an unexpected world.\\n', 'https://www.nytimes.com/2024/03/21/world/asia/afghanistan-suicide-bombing.html\\nSuicide Bombing Outside Afghan Bank Kills at Least 20\\nRelatives of a victim of the bombing during a funeral ceremony at a mosque in Kandahar, Afghanistan, on Thursday.\\nThe blast targeted a bank in Kandahar, where Taliban members had gathered to collect their salaries, witnesses said.\\n', 'https://www.nytimes.com/2024/03/22/us/politics/israel-biden-leverage.html\\nHow Biden Could Try to Coerce Israel to Change Its War Strategy\\nPresident Biden traveled to Israel and met with Prime Minister Benjamin Netanyahu days after the Oct. 7 attack.\\nPresident Biden has tried persuading Prime Minister Benjamin Netanyahu behind the scenes. But critics say it is time for a different approach.\\n', 'https://www.nytimes.com/2024/03/22/world/europe/heres-the-latest-on-the-attack-in-russia.html\\nHere’s the latest on the attack in Russia.\\nThe U.S. Embassy in Moscow issued a warning about possible attacks on large gatherings, including concerts, on March 7.\\n\\n', 'https://www.nytimes.com/2024/03/20/world/europe/iceland-volcano-tourism-impact.html\\nIceland’s Tourism Suffers Amid a Belching Volcano and Flowing Lava\\nViewing the flow of molten lava from a fissure on the Reykjanes Peninsula, north of the evacuated town of Grindavik, Iceland, on Saturday.\\nIn a country that relies heavily on visitors, hotels faced repeated evacuations, and one resort was temporarily shut.\\n', 'https://www.nytimes.com/2024/03/22/world/europe/sweden-meteorite-ownership.html\\nA Space Rock Fell Into Sweden. Who Owns It on Earth?\\nStriking workers added wood to a fire to stay warm during evening shifts in front of a recycling plant owned by the company SRW in Rötha, Germany, on Wednesday.\\nSweden’s courts have been debating claims to a meteorite that fell north of Stockholm, including whether the right to move around in nature, including on private property, extends to claiming a meteorite.\\n', 'https://www.nytimes.com/2024/03/21/world/americas/mexico-timeshare-fraud-cartel.html\\nA Mexican Drug Cartel Targets Retirees and Their Timeshares\\nTourists in Puerto Vallarta, a popular beach town in Mexico, in February. Over the last five years, American timeshare owners were bilked out of $288 million, according to the F.B.I.\\nOne of Mexico’s most violent criminal groups, Jalisco New Generation, runs call centers that offer to buy retirees’ vacation properties. Then, it empties its victims’ bank accounts.\\n', 'https://www.nytimes.com/2024/03/22/world/middleeast/israel-gaza-security-council-veto.html\\nU.S. Call for Gaza Cease-Fire Runs Into Russia-China Veto\\nRussia, China and Algeria voted against the U.S. resolution, and Guyana abstained, at the U.N. Security Council meeting in New York on Friday.\\nThe American draft resolution before the Security Council did not go far enough to end the Israel-Hamas war, Russia and China said, after the United States had vetoed three earlier resolutions.\\n', 'https://www.nytimes.com/2024/03/22/world/europe/kate-middleton-cancer-statement.html\\nRead Princess Kate’s Full Statement on Her Cancer Diagnosis\\nCatherine, the princess of Wales, speaking on Friday.\\nThe princess asked for privacy as she undergoes treatment, and said that “it has been an incredibly tough couple of months for our entire family.”\\n', 'https://www.nytimes.com/2024/03/21/world/europe/ireland-varadkar-what-now.html\\nIreland’s Prime Minister, Leo Varadkar, Resigned. What Happens Now?\\nIreland’s prime minister, Leo Varadkar, at a European Council summit in Brussels on Thursday, a day after he said he would step down.\\nLeo Varadkar, the prime minister of the Republic of Ireland, resigned unexpectedly, prompting a political scramble. Here’s what to know about what happens next.\\n', 'https://www.nytimes.com/2024/03/22/science/astronomy-asteroid-bennu-osiris-lauretta.html\\nDante Lauretta on Life After Asteroid Bennu and OSIRIS-REx\\n“Phosphorus has a special place in my heart,” said Dante Lauretta, who leads the Arizona Astrobiology Center.\\nDante Lauretta, the planetary scientist who led the OSIRIS-REx mission to retrieve a handful of space dust, discusses his next final frontier.\\n', 'https://www.nytimes.com/2024/03/21/world/europe/russia-missile-attack-kyiv-ukraine.html\\nRussian Missile Attack on Kyiv Leaves 10 Injured\\nFirefighters directing water onto a blaze on Thursday morning at the site of a missile strike in Kyiv, Ukraine.\\nUkraine said it had intercepted all 31 missiles fired at the capital. But debris injured at least 13 people and damaged several buildings.\\n', 'https://www.nytimes.com/2024/03/22/world/asia/south-korea-insooni-singer.html\\nInsooni Breaks Racial Barrier to Become Beloved Singer in South Korea\\nKim In-soon, known professionally as Insooni, taking a picture with a fan at a book signing in Seoul in March.\\nBorn to a South Korean mother and a Black American soldier, she rose to a pioneering stardom in a country that has long discriminated against biracial children.\\n', 'https://www.nytimes.com/2024/03/21/world/asia/india-national-congress-bank-accounts-bjp.html\\nIndian Opposition Parties Say They Face Tide of Troubles as Vote Nears\\nThe leader of the Aam Aadmi Party, Arvind Kejriwal, was taken into custody late on Thursday at his home in New Delhi.\\nWeeks before pivotal elections, the head of one party was arrested on what his supporters said were trumped-up charges and another party said it lost access to its funds.\\n', 'https://www.nytimes.com/2024/03/22/world/europe/germany-euro-2024.html\\nIs Germany Heading for Humiliation at the Euros?\\nGermany’s results since October (a win, a draw and two straight defeats) have not inspired confidence.\\nA nation that was soccer’s gold standard a decade ago is now trying anything and everything to find its way. The clock is ticking.\\n', 'https://www.nytimes.com/2024/03/22/health/coronavirus-evolution-immunity.html\\nWhat’s Next for the Coronavirus?\\nCatherine, the princess of Wales, speaking on Friday.\\nScientists studying the virus’s continuing evolution, and the body’s immune responses, hope to head off a resurgence and to better understand long Covid.\\n', 'https://www.nytimes.com/2024/03/21/world/asia/us-apple-monopoly-india-arrest-asia.html\\nFriday Briefing: The U.S. Sues Apple\\nBy tightly controlling the user experience on iPhones and other devices, Apple has created what critics call an uneven playing field where it grants its products and services access to core features that it denies rivals.\\nAlso, India’s opposition faces troubles and tips for a healthier relationship with your phone.\\n', 'https://www.nytimes.com/2024/03/22/world/europe/moscow-concert-attack-us-embassy.html\\nU.S. Warned About Possible Moscow Attack Before Concert Hall Shooting\\nThe U.S. Embassy in Moscow issued a warning about possible attacks on large gatherings, including concerts, on March 7.\\nPro-Moscow forces had dismissed the alert as an attempt to scare Russians.\\n', 'https://www.nytimes.com/2024/03/22/briefing/apple-lawsuit-antitrust-germany-strike.html\\nFriday Briefing\\nBy tightly controlling the user experience on iPhones and other devices, Apple has created what critics call an uneven playing field where it grants its products and services access to core features that it denies rivals.\\nThe U.S. sues Apple.\\n', 'https://www.nytimes.com/2024/03/21/world/middleeast/israel-al-shifa-hospital-raid-gaza.html\\nIsrael’s Raid on Al-Shifa Hospital Grows Into One of the Longest of Gaza War\\nSmoke rising during an Israeli raid at Al-Shifa Hospital and the surrounding area in Gaza City on Thursday.\\nAs Israel’s attack on the medical complex stretched into a fourth day, the military said it had killed dozens of people it described as terrorists. The account couldn’t be verified.\\n', 'https://www.nytimes.com/2024/03/21/briefing/eu-russia-ukraine-gaza-aid.html\\nThursday Briefing\\nA Ukrainian armored vehicle near Bakhmut in eastern Ukraine, last month. Soldiers on the front lines are reporting shortages of ammunition.\\nThe E.U.’s plan to make Russia pay to arm Ukraine.\\n', 'https://www.nytimes.com/2024/03/21/world/middleeast/johnson-netanyahu-schumer.html\\nMike Johnson Says He Will Invite Netanyahu to Address Congress\\nHouse Speaker Mike Johnson said on Thursday that he had been invited to speak in front of the Israeli Knesset.\\nSenator Chuck Schumer, the majority leader, also said he would support having a speech delivered “to Congress in a bipartisan way.”\\n']\n"
     ]
    }
   ],
   "source": [
    "# On va lire chaque fichier et on va stocker son contenu dans notre liste \n",
    "txt_data = []\n",
    "for filename in txt_files:\n",
    "    with open(os.path.join(folder_path, filename), \"r\", encoding='utf-8') as file:\n",
    "        txt_data.append(file.read())\n",
    "print(txt_data)"
   ]
  },
  {
   "cell_type": "code",
   "execution_count": 12,
   "metadata": {},
   "outputs": [
    {
     "name": "stdout",
     "output_type": "stream",
     "text": [
      "                                               corpus\n",
      "0   https://www.nytimes.com/2024/03/22/world/asia/...\n",
      "1   https://www.nytimes.com/2024/03/21/world/austr...\n",
      "2   https://www.nytimes.com/2024/03/21/world/middl...\n",
      "3   https://www.nytimes.com/2024/03/21/science/arc...\n",
      "4   https://www.nytimes.com/2024/03/22/world/middl...\n",
      "5   https://www.nytimes.com/live/2024/03/22/world/...\n",
      "6   https://www.nytimes.com/2024/03/22/technology/...\n",
      "7   https://www.nytimes.com/2024/03/22/climate/toy...\n",
      "8   https://www.nytimes.com/2024/03/21/world/europ...\n",
      "9   https://www.nytimes.com/2024/03/22/world/middl...\n",
      "10  https://www.nytimes.com/2024/03/20/world/asia/...\n",
      "11  https://www.nytimes.com/2024/03/22/world/europ...\n",
      "12  https://www.nytimes.com/2024/03/22/world/afric...\n",
      "13  https://www.nytimes.com/2024/03/21/climate/cli...\n",
      "14  https://www.nytimes.com/2024/03/21/world/ameri...\n",
      "15  https://www.nytimes.com/2024/03/20/world/middl...\n",
      "16  https://www.nytimes.com/2024/03/21/science/odo...\n",
      "17  https://www.nytimes.com/2024/03/21/world/middl...\n",
      "18  https://www.nytimes.com/2024/03/21/world/europ...\n",
      "19  https://www.nytimes.com/2024/03/20/world/middl...\n",
      "20  https://www.nytimes.com/2024/03/22/world/afric...\n",
      "21  https://www.nytimes.com/2024/03/22/business/ar...\n",
      "22  https://www.nytimes.com/2024/03/20/world/europ...\n",
      "23  https://www.nytimes.com/live/2024/03/22/world/...\n",
      "24  https://www.nytimes.com/2024/03/21/world/europ...\n",
      "25  https://www.nytimes.com/2024/03/22/world/europ...\n",
      "26  https://www.nytimes.com/2024/03/21/world/europ...\n",
      "27  https://www.nytimes.com/2024/03/22/world/europ...\n",
      "28  https://www.nytimes.com/2024/03/22/world/europ...\n",
      "29  https://www.nytimes.com/2024/03/22/world/europ...\n",
      "30  https://www.nytimes.com/2024/03/22/world/europ...\n",
      "31  https://www.nytimes.com/2024/03/20/world/europ...\n",
      "32  https://www.nytimes.com/2024/03/21/world/middl...\n",
      "33  https://www.nytimes.com/2024/03/22/world/austr...\n",
      "34  https://www.nytimes.com/2024/03/21/world/asia/...\n",
      "35  https://www.nytimes.com/2024/03/22/us/politics...\n",
      "36  https://www.nytimes.com/2024/03/22/world/europ...\n",
      "37  https://www.nytimes.com/2024/03/20/world/europ...\n",
      "38  https://www.nytimes.com/2024/03/22/world/europ...\n",
      "39  https://www.nytimes.com/2024/03/21/world/ameri...\n",
      "40  https://www.nytimes.com/2024/03/22/world/middl...\n",
      "41  https://www.nytimes.com/2024/03/22/world/europ...\n",
      "42  https://www.nytimes.com/2024/03/21/world/europ...\n",
      "43  https://www.nytimes.com/2024/03/22/science/ast...\n",
      "44  https://www.nytimes.com/2024/03/21/world/europ...\n",
      "45  https://www.nytimes.com/2024/03/22/world/asia/...\n",
      "46  https://www.nytimes.com/2024/03/21/world/asia/...\n",
      "47  https://www.nytimes.com/2024/03/22/world/europ...\n",
      "48  https://www.nytimes.com/2024/03/22/health/coro...\n",
      "49  https://www.nytimes.com/2024/03/21/world/asia/...\n",
      "50  https://www.nytimes.com/2024/03/22/world/europ...\n",
      "51  https://www.nytimes.com/2024/03/22/briefing/ap...\n",
      "52  https://www.nytimes.com/2024/03/21/world/middl...\n",
      "53  https://www.nytimes.com/2024/03/21/briefing/eu...\n",
      "54  https://www.nytimes.com/2024/03/21/world/middl...\n"
     ]
    }
   ],
   "source": [
    "# On va créer un dictionnaire pour avoir comme clé \"corpus\" et en valeur le contenu\n",
    "# Mais aussi, on va créer une dataframe pour avoir par ligne notre fichier \n",
    "data = {\"corpus\": txt_data}\n",
    "corpus_df = pd.DataFrame(data)\n",
    "print(corpus_df)"
   ]
  },
  {
   "cell_type": "code",
   "execution_count": 18,
   "metadata": {},
   "outputs": [
    {
     "name": "stdout",
     "output_type": "stream",
     "text": [
      "Séance 3 - Information sur mon corpus :\n",
      "Le nombre de textes : 55\n"
     ]
    }
   ],
   "source": [
    "# Nous allons afficher mes informations de notre corpus\n",
    "print(\"Séance 3 - Information sur mon corpus :\")\n",
    "print(\"Le nombre de textes :\", len(txt_files))"
   ]
  },
  {
   "cell_type": "code",
   "execution_count": 21,
   "metadata": {},
   "outputs": [
    {
     "name": "stdout",
     "output_type": "stream",
     "text": [
      "La taille moyenne des textes en nombre de mots : 54.21818181818182\n"
     ]
    }
   ],
   "source": [
    "# Nous cherchons la taille moyenne des textes en nombre de mots\n",
    "# On parcoure chaque texte\n",
    "for text in txt_data:\n",
    "    # On prend la taille du contenu qu'on split pour avoir que les mots ! \n",
    "    total += len(text.split())\n",
    "# On calcul la taille moyenne en divisant le nombre total de mot par le nombre de texte\n",
    "words = total / len(txt_data)\n",
    "print(\"La taille moyenne des textes en nombre de mots :\", mean_words)\n"
   ]
  },
  {
   "cell_type": "code",
   "execution_count": 23,
   "metadata": {},
   "outputs": [
    {
     "name": "stdout",
     "output_type": "stream",
     "text": [
      "Taille moyenne des textes en nombre de phrases : 10.254545454545454\n"
     ]
    }
   ],
   "source": [
    "# On cherche la moyenne des texte en nombre de phrase : \n",
    "# en tenant compte des différents séparateurs de phrases\n",
    "total_sentences = 0\n",
    "for text in txt_data:\n",
    "    # On reproduit la même stratégie que précédemment : len + split (\"PUNCT\")\n",
    "    total_sentences += len(text.split('.')) + len(text.split('!')) + len(text.split('?'))\n",
    "avg_sentences = total_sentences / len(txt_data)\n",
    "print(\"Taille moyenne des textes en nombre de phrases :\", avg_sentences)\n"
   ]
  },
  {
   "cell_type": "code",
   "execution_count": 28,
   "metadata": {},
   "outputs": [
    {
     "name": "stdout",
     "output_type": "stream",
     "text": [
      "Taille moyenne des fichiers : 409.9818181818182 caractères\n"
     ]
    }
   ],
   "source": [
    "# On cherche la taille moyenne des fichiers :\n",
    "f_properties = 0\n",
    "for text in txt_data:\n",
    "    f_properties += len(text)\n",
    "properties = f_properties / len(txt_data)\n",
    "print(\"Taille moyenne des fichiers :\", properties, \"caractères\")\n"
   ]
  },
  {
   "cell_type": "code",
   "execution_count": null,
   "metadata": {},
   "outputs": [],
   "source": []
  }
 ],
 "metadata": {
  "kernelspec": {
   "display_name": "Python 3 (ipykernel)",
   "language": "python",
   "name": "python3"
  },
  "language_info": {
   "codemirror_mode": {
    "name": "ipython",
    "version": 3
   },
   "file_extension": ".py",
   "mimetype": "text/x-python",
   "name": "python",
   "nbconvert_exporter": "python",
   "pygments_lexer": "ipython3",
   "version": "3.11.6"
  }
 },
 "nbformat": 4,
 "nbformat_minor": 4
}
