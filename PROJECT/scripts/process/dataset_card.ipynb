{
 "cells": [
  {
   "cell_type": "code",
   "execution_count": 1,
   "id": "53e5afa1-dca5-4200-88a6-520c112ac3db",
   "metadata": {},
   "outputs": [],
   "source": [
    "import pandas as pd\n",
    "from sklearn.model_selection import train_test_split\n",
    "import yaml"
   ]
  },
  {
   "cell_type": "code",
   "execution_count": 2,
   "id": "29680d86-b553-4f10-bda4-8db5cf5a9785",
   "metadata": {},
   "outputs": [],
   "source": [
    "# Charger le fichier CSV\n",
    "file_path = '../../figures/nyt_data.csv'\n",
    "data = pd.read_csv(file_path)"
   ]
  },
  {
   "cell_type": "code",
   "execution_count": 3,
   "id": "fee7ac1a-8639-41e3-aef4-856e02630cb5",
   "metadata": {},
   "outputs": [
    {
     "name": "stdout",
     "output_type": "stream",
     "text": [
      "                                                LINK  \\\n",
      "0  https://www.nytimes.com/2024/03/22/business/ar...   \n",
      "1  https://www.nytimes.com/2024/03/20/world/middl...   \n",
      "2  https://www.nytimes.com/2024/03/21/science/arc...   \n",
      "3  https://www.nytimes.com/2024/03/20/world/asia/...   \n",
      "4  https://www.nytimes.com/2024/03/22/world/austr...   \n",
      "\n",
      "                                               TITLE  \\\n",
      "0  The A.I. Boom Makes Millions for an Unlikely I...   \n",
      "1       Israel-Hamas War in Gaza Leaves Power Vacuum   \n",
      "2  Long Before Amsterdam’s Coffee Shops, There We...   \n",
      "3            Thursday Briefing: Where is Gaza’s Aid?   \n",
      "4  What We Gained (and Lost) When Our Daughter Un...   \n",
      "\n",
      "                                         DESCRIPTION  \\\n",
      "0  The small Caribbean territory brought in $32 m...   \n",
      "1  Analysts say the Israeli military’s return to ...   \n",
      "2  A nearly 2,000-year-old stash pouch provides t...   \n",
      "3  Also, sweeping U.S. climate regulations and th...   \n",
      "4  My 13-year-old has left her phone behind for h...   \n",
      "\n",
      "                                             CONTENT  \n",
      "0  For each domain registration, Anguilla’s gover...  \n",
      "1  A ceremony in 2022 for the 35th anniversary of...  \n",
      "2  Migrant agricultural workers unloading fruit c...  \n",
      "3  Prime Minister Rishi Sunak of Britain argues t...  \n",
      "4  Letters sent by the author’s daughter from Tim...  \n"
     ]
    }
   ],
   "source": [
    "print(data.head())"
   ]
  },
  {
   "cell_type": "code",
   "execution_count": 4,
   "id": "9c854f4b-bf61-4f55-887b-46973976645f",
   "metadata": {},
   "outputs": [],
   "source": [
    "train_data, temp_data = train_test_split(data, test_size=0.2, random_state=42)\n",
    "dev_data, test_data = train_test_split(temp_data, test_size=0.5, random_state=42)\n",
    "\n",
    "# Sauvegarder les split dans des fichiers CSV en enlevant l'index\n",
    "train_data.to_csv('../../figures/nyt_train.csv', index=False)\n",
    "dev_data.to_csv('../../figures/nyt_dev.csv', index=False)\n",
    "test_data.to_csv('../../figures/nyt_test.csv', index=False)"
   ]
  },
  {
   "cell_type": "code",
   "execution_count": 5,
   "id": "e72ec981-ea0c-4724-aab7-11587be87775",
   "metadata": {},
   "outputs": [],
   "source": [
    "# On charge nos trois split : train, test et dev\n",
    "train_data = pd.read_csv(\"../../figures/nyt_train.csv\")\n",
    "dev_data = pd.read_csv(\"../../figures/nyt_dev.csv\")\n",
    "test_data = pd.read_csv(\"../../figures/nyt_test.csv\")"
   ]
  },
  {
   "cell_type": "code",
   "execution_count": 6,
   "id": "483b9cee-71b1-43b1-8e14-a125ac99fdd8",
   "metadata": {},
   "outputs": [],
   "source": [
    "# Calculer les statistiques\n",
    "num_train = len(train_data)\n",
    "num_dev = len(dev_data)\n",
    "num_test = len(test_data)\n",
    "num_total = num_train + num_dev + num_test\n"
   ]
  },
  {
   "cell_type": "code",
   "execution_count": 7,
   "id": "c38a360e-334e-4a0a-a596-19337fc1d596",
   "metadata": {},
   "outputs": [],
   "source": [
    "# On veut afficher toute les lignes du train : [0:]\n",
    "examples = [\n",
    "    {\n",
    "        \"link\": train_data[\"LINK\"].tolist(),\n",
    "        \"title\": train_data[\"TITLE\"].tolist(),\n",
    "        \"description\": train_data[\"DESCRIPTION\"].tolist(),\n",
    "        \"content\": train_data[\"CONTENT\"].tolist()\n",
    "    }\n",
    "]"
   ]
  },
  {
   "cell_type": "code",
   "execution_count": 8,
   "id": "14f4275a-0ded-4d23-b79d-f69de34bb483",
   "metadata": {},
   "outputs": [],
   "source": [
    "# Construire le dictionnaire de métadonnées\n",
    "dataset_info = {\n",
    "    \"name\": \"nyt_data.csv\",\n",
    "    \"description\": (\n",
    "        \"Ce dataset contient des articles du New York Times, collectés via le flux RSS.\"\n",
    "        \"L'objectif de ce corpus était de collecter un maximum de données textuelles aifn de fournir des données d'entraînement pour un modèle de langage pour générer des résumés de texte.\"\n",
    "    ),\n",
    "    \"homepage\": \"https://rss.nytimes.com/services/xml/rss/nyt/World.xml\",\n",
    "    \"tags\": [\"text-classification\", \"summarization\", \"text-generation\"],\n",
    "    \"language\": \"English\",\n",
    "    \n",
    "    \"dataset_info\": {\n",
    "\n",
    "        # Le type de caractère de contient nos 4 colonnes\n",
    "        \"features\": [\n",
    "            {\"name\": \"link\", \"type\": \"string\"},\n",
    "            {\"name\": \"title\", \"type\": \"string\"},\n",
    "            {\"name\": \"description\", \"type\": \"string\"},\n",
    "            {\"name\": \"content\", \"type\": \"string\"}\n",
    "        ],\n",
    "\n",
    "        # Le nombre de ligne que contient chaque split : train, dev et test\n",
    "        \"splits\": [\n",
    "            {\"name\": \"train\", \"items\": num_train},\n",
    "            {\"name\": \"dev\", \"items\": num_dev},\n",
    "            {\"name\": \"test\", \"items\": num_test}\n",
    "        ],\n",
    "\n",
    "        # Les informations sur les statisques de notre corpus\n",
    "        \"statistics\": {\n",
    "            \n",
    "            # Le nombre de ligne : 55 articles\n",
    "            \"articles\": num_total,\n",
    "\n",
    "            # Le nombre de colonne\n",
    "            \"feature\": 4,\n",
    "\n",
    "            # La corrélation entre la longueur des textes et des résumés\n",
    "            \"correlation\": -0.23521990332014103,\n",
    "            \"p-value\": 0.08686425401448802,\n",
    "            \n",
    "            \"sum\" : \"Chaque texte contient en moyenne 20,49 mots et 4,69 phrases, ce qui indique une longueur relative dans le contenu. De plus, la taille moyenne des fichiers est de 124,51 octets, qui est une taille assez compacte de chaque fichier.\" \n",
    "            \n",
    "        },\n",
    "        \"examples\": examples\n",
    "    }\n",
    "}"
   ]
  },
  {
   "cell_type": "code",
   "execution_count": 9,
   "id": "99082710-d7e6-4959-a6cd-8849e1bed099",
   "metadata": {},
   "outputs": [],
   "source": [
    "# Inspiration : https://stackoverflow.com/questions/1773805/how-can-i-parse-a-yaml-file-in-python\n",
    "\n",
    "# On enregistre notre fichier \n",
    "with open(\"../../nyt_dataset.yaml\", \"w\") as file:\n",
    "    yaml.dump(dataset_info, file, default_flow_style=False, allow_unicode=True)\n"
   ]
  },
  {
   "cell_type": "code",
   "execution_count": 10,
   "id": "7ccd5ce6-896f-44b1-8da0-40a091d771b6",
   "metadata": {},
   "outputs": [
    {
     "name": "stdout",
     "output_type": "stream",
     "text": [
      "{'dataset_info': {'examples': [{'content': ['Prime Minister Rishi Sunak of Britain argues that flights to Rwanda would be a vital deterrent to immigration.', 'Kim In-soon, known professionally as Insooni, taking a picture with a fan at a book signing in Seoul in March.', 'Linda Thomas-Greenfield, the U.S. ambassador to the United Nations, voted against a resolution calling for an immediate cease-fire last month.', 'Vaughan Gething poses for a photo, in a lecture hall at Cardiff University, after being elected as the next Welsh Labour leader and First Minister of Wales, in Cardiff, Saturday, March 16, 2024.', 'Palestinians gathered to receive aid outside an UNRWA warehouse in Gaza City on Monday.', 'The leader of the Aam Aadmi Party, Arvind Kejriwal, was taken into custody late on Thursday at his home in New Delhi.', 'Letters sent by the author’s daughter from Timbertop, a school campus in the Australian bush.', 'Firefighters directing water onto a blaze on Thursday morning at the site of a missile strike in Kyiv, Ukraine.', 'Charging up in Lake Park, Fla.', 'Rose Dugdale in 1974 after being sentenced to nine years in prison for crimes including art theft. Born an English heiress, she left her wealth behind to join the Irish Republican Army.', 'Gen. Muhoozi Kainerugaba, the son of Uganda’s president, has been working to raise his profile and set himself up as heir apparent.', 'Secretary of State Antony J. Blinken arriving in Cairo on Thursday to discuss the war in Gaza with Mideast leaders.', 'Crocus City Hall in Moscow on fire Friday night after a major attack.', 'The World Artificial Intelligence Conference in Shanghai in July 2023. China has invested heavily in A.I. education.', 'Ireland’s prime minister, Leo Varadkar, at a European Council summit in Brussels on Thursday, a day after he said he would step down.', 'Tourists in Puerto Vallarta, a popular beach town in Mexico, in February. Over the last five years, American timeshare owners were bilked out of $288 million, according to the F.B.I.', 'Secretary of State Antony J. Blinken arrived in Tel Aviv for meetings with Israeli officials on Friday.', 'Striking workers added wood to a fire to stay warm during evening shifts in front of a recycling plant owned by the company SRW in Rötha, Germany, on Wednesday.', 'A drone photograph showing Russian soldiers killed on the battlefield on the front line of eastern Ukraine.', 'The U.S. Embassy in Moscow issued a warning about possible attacks on large gatherings, including concerts, on March 7.', 'For each domain registration, Anguilla’s government gets anywhere from $140 to thousands of dollars from website names sold at auctions.', 'A Ukrainian armored vehicle near Bakhmut in eastern Ukraine, last month. Soldiers on the front lines are reporting shortages of ammunition.', 'President Biden traveled to Israel and met with Prime Minister Benjamin Netanyahu days after the Oct. 7 attack.', 'The visage of President Vladimir V. Putin was part of the stage at a celebration in Red Square after his “re-election.”', 'Viewing the flow of molten lava from a fissure on the Reykjanes Peninsula, north of the evacuated town of Grindavik, Iceland, on Saturday.', 'A ceremony in 2022 for the 35th anniversary of the founding of Hamas in Gaza City.', 'Secretary of State Antony J. Blinken arriving in Cairo on Thursday to discuss the war in Gaza with Mideast leaders.', 'Migrant agricultural workers unloading fruit crates in a citrus grove in Faro, Portugal, on Tuesday.', 'Catherine, the princess of Wales, speaking on Friday.', 'Secretary of State Antony J. Blinken meeting with Prince Faisal bin Farhan, Saudi Arabia’s foreign minister, in Jeddah on Wednesday.', 'Catherine, the princess of Wales, speaking on Friday.', 'House Speaker Mike Johnson said on Thursday that he had been invited to speak in front of the Israeli Knesset.', 'Emergency vehicles outside the Crocus City Hall concert venue in Moscow after an attack on Friday.', 'Watching President Macky Sall of Senegal speak at a news conference last month. He tried to postpone a presidential election that was only three weeks away.', 'Germany’s results since October (a win, a draw and two straight defeats) have not inspired confidence.', 'Henock Inonga, of the Democratic Republic of Congo’s national soccer team, cooled off before a match with Ivory Coast in Abidjan on Feb. 7. Players in the Africa Cup of Nations tournament had to take extra breaks to hydrate because of the heat wave.', 'Officers seized evidence on Wednesday a home in Granada, Spain, owned by the former Spanish soccer federation chief Luis Rubiales.', 'By tightly controlling the user experience on iPhones and other devices, Apple has created what critics call an uneven playing field where it grants its products and services access to core features that it denies rivals.', 'The U.S. Embassy in Moscow issued a warning about possible attacks on large gatherings, including concerts, on March 7.', 'Secretary of State Antony J. Blinken arriving in Cairo on Thursday to discuss the war in Gaza with Mideast leaders.', 'Prime Minister Rishi Sunak of Britain argues that flights to Rwanda would be a vital deterrent to immigration.', 'Smoke rising during an Israeli raid at Al-Shifa Hospital and the surrounding area in Gaza City on Thursday.', 'Relatives of a victim of the bombing during a funeral ceremony at a mosque in Kandahar, Afghanistan, on Thursday.', 'Striking workers added wood to a fire to stay warm during evening shifts in front of a recycling plant owned by the company SRW in Rötha, Germany, on Wednesday.'], 'description': ['Also, sweeping U.S. climate regulations and the “3 Body Problem” on Netflix.', 'Born to a South Korean mother and a Black American soldier, she rose to a pioneering stardom in a country that has long discriminated against biracial children.', 'Before a U.S. resolution in the United Nations Security Council calling for a cease-fire in Gaza was vetoed on Friday, the U.S. had vetoed three previous ones demanding a halt to the fighting.', 'Mr. Gething, 50, was narrowly elected leader of Wales’s governing Labour Party this week, and then was elected first minister by the Senedd, or Welsh Parliament.', 'A bill would bar support for the agency, UNRWA, amid accusations that some employees were Hamas fighters. Other countries are scrambling to make up the looming shortfall.', 'Weeks before pivotal elections, the head of one party was arrested on what his supporters said were trumped-up charges and another party said it lost access to its funds.', 'My 13-year-old has left her phone behind for hiking, chores and study in the Australian wilderness. Our pen-and-paper correspondence is opening up an unexpected world.', 'Ukraine said it had intercepted all 31 missiles fired at the capital. But debris injured at least 13 people and damaged several buildings.', 'The auto giant lobbied hard against tougher pollution rules. This week, the E.P.A.’s new rules proved favorable to hybrid technology, an area that Toyota dominates.', 'Born into English wealth and Oxford-educated, she left it all behind for a life of radical and often violent activism.', 'Gen. Muhoozi Kainerugaba, who has a reputation for provocative late-night tweets, has been working to position himself as heir apparent to his father, President Yoweri Museveni.', 'The boy had been dropped off with relatives nearly three weeks ago and was airlifted back to his Florida home. He is part of a growing number of Americans trying to flee Haiti.', 'Images show the scene of what could be the deadliest attack in Russia in decades. Multiple gunmen killed at least 40 people in an assault in the capital’s outskirts.', 'Volunteers who treated patients in harrowing conditions lobbied American officials on the urgency of an immediate cease-fire.', 'Leo Varadkar, the prime minister of the Republic of Ireland, resigned unexpectedly, prompting a political scramble. Here’s what to know about what happens next.', 'One of Mexico’s most violent criminal groups, Jalisco New Generation, runs call centers that offer to buy retirees’ vacation properties. Then, it empties its victims’ bank accounts.', 'Prime Minister Benjamin Netanyahu repeated that Israel was determined to send troops into the crowded southern Gaza city of Rafah despite U.S. urgings not to.', 'At 15, he escaped to England. At 20, he enlisted in the British Army and identified a German minister — whose roles included deporting Dutch Jews to labor camps — as he tried to flee.', 'Civilians who gather dead Russian soldiers face many of the war’s perils along the front, where death is ubiquitous.', 'Pro-Moscow forces had dismissed the alert as an attempt to scare Russians.', 'The small Caribbean territory brought in $32 million last year, more than 10 percent of its G.D.P., from companies registering web addresses that end in .ai.', 'The E.U.’s plan to make Russia pay to arm Ukraine.', 'President Biden has tried persuading Prime Minister Benjamin Netanyahu behind the scenes. But critics say it is time for a different approach.', 'These votes can demonstrate control, serve as a warning and create the illusion of accountability.', 'In a country that relies heavily on visitors, hotels faced repeated evacuations, and one resort was temporarily shut.', 'Analysts say the Israeli military’s return to the largest hospital complex in the enclave may foretell more chaos without governance.', 'A resolution for the U.N. that American diplomats are circulating was notable for its strong language in seeking a cease-fire in Gaza and the release of hostages.', 'A nearly 2,000-year-old stash pouch provides the first evidence of the intentional use of a powerful psychedelic plant in Western Europe during the Roman Era.', 'The princess asked for privacy as she undergoes treatment, and said that “it has been an incredibly tough couple of months for our entire family.”', 'In Saudi Arabia, the secretary of state discussed a U.S. draft resolution at the U.N. Security Council calling for “an immediate cease-fire tied to the release of hostages” in Gaza.', 'Scientists studying the virus’s continuing evolution, and the body’s immune responses, hope to head off a resurgence and to better understand long Covid.', 'Senator Chuck Schumer, the majority leader, also said he would support having a speech delivered “to Congress in a bipartisan way.”', 'There was no report of who might be responsible for what could be one of the deadliest attacks in Russia in decades.', 'A wave of military coups and presidents clinging to power are two sides of the same anti-democratic coin plaguing Francophone Africa, experts say.', 'A nation that was soccer’s gold standard a decade ago is now trying anything and everything to find its way. The clock is ticking.', 'Temperatures in the region rose above 40 degrees Celsius in February, with humidity pushing the heat index even higher.', 'Two musky steroids, and higher levels of odorous acids, distinguish the body odors of adolescents and tots.', 'The U.S. sues Apple.', nan, \"The country's domestic airlines play a crucial role in connectivity. But for the casual flier, even the journey is captivating.\", 'Parliament is all but certain to approve the government’s plan, but a rare show of defiance by the unelected upper house showed the depth of opposition.', 'As Israel’s attack on the medical complex stretched into a fourth day, the military said it had killed dozens of people it described as terrorists. The account couldn’t be verified.', 'The blast targeted a bank in Kandahar, where Taliban members had gathered to collect their salaries, witnesses said.', 'A wave of strikes by German workers, feeling the sting of inflation and stagnant growth, is the latest sign of the bleak outlook for Europe’s economic powerhouse.'], 'link': ['https://www.nytimes.com/2024/03/20/world/asia/gaza-aid-evs-hong-kong-asia.html', 'https://www.nytimes.com/2024/03/22/world/asia/south-korea-insooni-singer.html', 'https://www.nytimes.com/2024/03/22/world/middleeast/us-cease-fire-resolution-vetoes.html', 'https://www.nytimes.com/2024/03/21/world/europe/vaughan-gething-wales-parliament.html', 'https://www.nytimes.com/2024/03/20/world/middleeast/unrwa-senate-gaza.html', 'https://www.nytimes.com/2024/03/21/world/asia/india-national-congress-bank-accounts-bjp.html', 'https://www.nytimes.com/2024/03/22/world/australia/screen-free-school.html', 'https://www.nytimes.com/2024/03/21/world/europe/russia-missile-attack-kyiv-ukraine.html', 'https://www.nytimes.com/2024/03/22/climate/toyota-hybrid-epa-pollution.html', 'https://www.nytimes.com/2024/03/22/world/europe/rose-dugdale-dead.html', 'https://www.nytimes.com/2024/03/22/world/africa/uganda-president-son.html', 'https://www.nytimes.com/2024/03/21/world/americas/haiti-evacuation-florida-family.html', 'https://www.nytimes.com/2024/03/22/world/europe/moscow-concert-hall-attack-photos.html', 'https://www.nytimes.com/2024/03/21/world/middleeast/gaza-hospitals-doctors-israel-congress.html', 'https://www.nytimes.com/2024/03/21/world/europe/ireland-varadkar-what-now.html', 'https://www.nytimes.com/2024/03/21/world/americas/mexico-timeshare-fraud-cartel.html', 'https://www.nytimes.com/2024/03/22/world/middleeast/blinken-netanyahu-israel-cease-fire.html', 'https://www.nytimes.com/2024/03/22/world/europe/norman-miller-dead.html', 'https://www.nytimes.com/2024/03/22/world/europe/russia-ukraine-toll-bodies.html', 'https://www.nytimes.com/2024/03/22/world/europe/moscow-concert-attack-us-embassy.html', 'https://www.nytimes.com/2024/03/22/business/artificial-intelligence-anguilla.html', 'https://www.nytimes.com/2024/03/21/briefing/eu-russia-ukraine-gaza-aid.html', 'https://www.nytimes.com/2024/03/22/us/politics/israel-biden-leverage.html', 'https://www.nytimes.com/2024/03/21/world/europe/interpreter-elections-putin.html', 'https://www.nytimes.com/2024/03/20/world/europe/iceland-volcano-tourism-impact.html', 'https://www.nytimes.com/2024/03/20/world/middleeast/israel-gaza-hamas-power-vacuum.html', 'https://www.nytimes.com/2024/03/21/world/middleeast/gaza-blinken-ceasefire.html', 'https://www.nytimes.com/2024/03/21/science/archaeology-hallucinogens-henbane.html', 'https://www.nytimes.com/2024/03/22/world/europe/kate-middleton-cancer-statement.html', 'https://www.nytimes.com/2024/03/21/world/middleeast/blinken-un-cease-fire.html', 'https://www.nytimes.com/2024/03/22/health/coronavirus-evolution-immunity.html', 'https://www.nytimes.com/2024/03/21/world/middleeast/johnson-netanyahu-schumer.html', 'https://www.nytimes.com/live/2024/03/22/world/moscow-shooting', 'https://www.nytimes.com/2024/03/22/world/africa/democracy-senegal-africa-france.html', 'https://www.nytimes.com/2024/03/22/world/europe/germany-euro-2024.html', 'https://www.nytimes.com/2024/03/21/climate/climate-change-heat-wave-west-africa.html', 'https://www.nytimes.com/2024/03/21/science/odor-adolescents-chemistry.html', 'https://www.nytimes.com/2024/03/22/briefing/apple-lawsuit-antitrust-germany-strike.html', 'https://www.nytimes.com/2024/03/22/world/europe/heres-the-latest-on-the-attack-in-russia.html', 'https://www.nytimes.com/2024/03/21/world/australia/new-zealand-sounds-air-flying-domestic.html', 'https://www.nytimes.com/2024/03/20/world/europe/uk-rwanda-bill-lords.html', 'https://www.nytimes.com/2024/03/21/world/middleeast/israel-al-shifa-hospital-raid-gaza.html', 'https://www.nytimes.com/2024/03/21/world/asia/afghanistan-suicide-bombing.html', 'https://www.nytimes.com/2024/03/22/world/europe/germany-strikes-economy.html'], 'title': ['Thursday Briefing: Where is Gaza’s Aid?', 'Insooni Breaks Racial Barrier to Become Beloved Singer in South Korea', 'A Look at Previous U.S. Vetoes of Gaza Cease-Fire Resolutions in the U.N.', 'Vaughan Gething of Wales Is Europe’s First Black Head of Government', 'Congress Seeks to Bar Funding for U.N. Agency for Palestinians', 'Indian Opposition Parties Say They Face Tide of Troubles as Vote Nears', 'What We Gained (and Lost) When Our Daughter Unplugged for a School Year', 'Russian Missile Attack on Kyiv Leaves 10 Injured', 'How the New E.P.A. Rules Affect Toyota and Their Hybrid Cars', 'Rose Dugdale, Heiress Turned Irish Independence Fighter, Dies at 82', 'Uganda President Museveni Appoints His Son as Top Army Commander', 'As Americans Flee Haiti, 2-Year-Old Is Separated from His Parents', 'The Deadly Moscow Concert Hall Attack in Photos', 'Doctors, Back From Gaza Hospitals, Tell Congress of Horrors Amid Cease-Fire Push', 'Ireland’s Prime Minister, Leo Varadkar, Resigned. What Happens Now?', 'A Mexican Drug Cartel Targets Retirees and Their Timeshares', 'Blinken Meets With Netanyahu at Moment of Tension Between U.S. and Israel', 'Norman Miller, German Refugee Who Helped Arrest a Top Nazi, Dies at 99', 'Collecting the Dead Russia Left Behind', 'U.S. Warned About Possible Moscow Attack Before Concert Hall Shooting', 'The A.I. Boom Makes Millions for an Unlikely Industry Player: Anguilla', 'Thursday Briefing', 'How Biden Could Try to Coerce Israel to Change Its War Strategy', 'Why Do Autocrats Like Putin Bother to Hold Elections?', 'Iceland’s Tourism Suffers Amid a Belching Volcano and Flowing Lava', 'Israel-Hamas War in Gaza Leaves Power Vacuum', 'U.S. to Present Gaza Cease-Fire Resolution at U.N. Security Council', 'Long Before Amsterdam’s Coffee Shops, There Were Hallucinogenic Seeds', 'Read Princess Kate’s Full Statement on Her Cancer Diagnosis', 'Blinken Describes New U.S. Push for Cease-Fire in Gaza', 'What’s Next for the Coronavirus?', 'Mike Johnson Says He Will Invite Netanyahu to Address Congress', 'Live Updates: Gunmen Kill at Least 40 at Moscow Concert Hall, Russian Officials Say', 'Democracy Crumbling in African Countries Once Ruled by France', 'Is Germany Heading for Humiliation at the Euros?', 'Climate Change Made an Early Heat Wave in West Africa 10 Times as Likely', 'Toddlers Smell Like Flowers, Teens Smell ‘Goatlike,’ Study Finds', 'Friday Briefing', 'Here’s the latest on the attack in Russia.', 'In New Zealand, Experiencing the Miracle of Flight Anew', 'U.K. Bill to Send Asylum Seekers to Rwanda Is Stalled by House of Lords', 'Israel’s Raid on Al-Shifa Hospital Grows Into One of the Longest of Gaza War', 'Suicide Bombing Outside Afghan Bank Kills at Least 20', '‘Strike Madness’ Hits Germany While Its Economy Stumbles']}], 'features': [{'name': 'link', 'type': 'string'}, {'name': 'title', 'type': 'string'}, {'name': 'description', 'type': 'string'}, {'name': 'content', 'type': 'string'}], 'splits': [{'items': 44, 'name': 'train'}, {'items': 5, 'name': 'dev'}, {'items': 6, 'name': 'test'}], 'statistics': {'articles': 55, 'correlation': -0.23521990332014103, 'feature': 4, 'p-value': 0.08686425401448802, 'sum': 'Chaque texte contient en moyenne 20,49 mots et 4,69 phrases, ce qui indique une longueur relative dans le contenu. De plus, la taille moyenne des fichiers est de 124,51 octets, qui est une taille assez compacte de chaque fichier.'}}, 'description': \"Ce dataset contient des articles du New York Times, collectés via le flux RSS.L'objectif de ce corpus était de collecter un maximum de données textuelles aifn de fournir des données d'entraînement pour un modèle de langage pour générer des résumés de texte.\", 'homepage': 'https://rss.nytimes.com/services/xml/rss/nyt/World.xml', 'language': 'English', 'name': 'nyt_data.csv', 'tags': ['text-classification', 'summarization', 'text-generation']}\n"
     ]
    }
   ],
   "source": [
    "# Avec la librairie yaml on ouvre notre fichier et le parcourt pour voir si la structure est correct ! \n",
    "\n",
    "with open(\"../../nyt_dataset.yaml\", \"r\") as file:\n",
    "    docs = yaml.safe_load_all(file)\n",
    "\n",
    "    for doc in docs:\n",
    "        print(doc)"
   ]
  },
  {
   "cell_type": "code",
   "execution_count": null,
   "id": "408a4928-7020-4df7-bf97-f409271fd61f",
   "metadata": {},
   "outputs": [],
   "source": []
  }
 ],
 "metadata": {
  "kernelspec": {
   "display_name": "Python 3 (ipykernel)",
   "language": "python",
   "name": "python3"
  },
  "language_info": {
   "codemirror_mode": {
    "name": "ipython",
    "version": 3
   },
   "file_extension": ".py",
   "mimetype": "text/x-python",
   "name": "python",
   "nbconvert_exporter": "python",
   "pygments_lexer": "ipython3",
   "version": "3.11.6"
  }
 },
 "nbformat": 4,
 "nbformat_minor": 5
}
